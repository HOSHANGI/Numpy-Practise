{
 "cells": [
  {
   "cell_type": "code",
   "execution_count": 1,
   "id": "7fc40254",
   "metadata": {
    "_cell_guid": "b1076dfc-b9ad-4769-8c92-a6c4dae69d19",
    "_uuid": "8f2839f25d086af736a60e9eeb907d3b93b6e0e5",
    "execution": {
     "iopub.execute_input": "2023-05-13T14:23:08.060251Z",
     "iopub.status.busy": "2023-05-13T14:23:08.059874Z",
     "iopub.status.idle": "2023-05-13T14:23:08.069730Z",
     "shell.execute_reply": "2023-05-13T14:23:08.069047Z"
    },
    "papermill": {
     "duration": 0.031668,
     "end_time": "2023-05-13T14:23:08.071360",
     "exception": false,
     "start_time": "2023-05-13T14:23:08.039692",
     "status": "completed"
    },
    "tags": []
   },
   "outputs": [],
   "source": [
    "# This Python 3 environment comes with many helpful analytics libraries installed\n",
    "# It is defined by the kaggle/python Docker image: https://github.com/kaggle/docker-python\n",
    "# For example, here's several helpful packages to load\n",
    "\n",
    "import numpy as np # linear algebra\n",
    "import pandas as pd # data processing, CSV file I/O (e.g. pd.read_csv)\n",
    "\n",
    "# Input data files are available in the read-only \"../input/\" directory\n",
    "# For example, running this (by clicking run or pressing Shift+Enter) will list all files under the input directory\n",
    "\n",
    "import os\n",
    "for dirname, _, filenames in os.walk('/kaggle/input'):\n",
    "    for filename in filenames:\n",
    "        print(os.path.join(dirname, filename))\n",
    "\n",
    "# You can write up to 20GB to the current directory (/kaggle/working/) that gets preserved as output when you create a version using \"Save & Run All\" \n",
    "# You can also write temporary files to /kaggle/temp/, but they won't be saved outside of the current session"
   ]
  },
  {
   "cell_type": "markdown",
   "id": "8add7b7a",
   "metadata": {
    "papermill": {
     "duration": 0.018111,
     "end_time": "2023-05-13T14:23:08.107847",
     "exception": false,
     "start_time": "2023-05-13T14:23:08.089736",
     "status": "completed"
    },
    "tags": []
   },
   "source": [
    "# **BASIC OPERATIONS**"
   ]
  },
  {
   "cell_type": "code",
   "execution_count": 2,
   "id": "970c8765",
   "metadata": {
    "execution": {
     "iopub.execute_input": "2023-05-13T14:23:08.145367Z",
     "iopub.status.busy": "2023-05-13T14:23:08.145131Z",
     "iopub.status.idle": "2023-05-13T14:23:08.151239Z",
     "shell.execute_reply": "2023-05-13T14:23:08.150531Z"
    },
    "papermill": {
     "duration": 0.026632,
     "end_time": "2023-05-13T14:23:08.152780",
     "exception": false,
     "start_time": "2023-05-13T14:23:08.126148",
     "status": "completed"
    },
    "tags": []
   },
   "outputs": [],
   "source": [
    "import numpy as np"
   ]
  },
  {
   "cell_type": "code",
   "execution_count": 3,
   "id": "58231087",
   "metadata": {
    "execution": {
     "iopub.execute_input": "2023-05-13T14:23:08.190656Z",
     "iopub.status.busy": "2023-05-13T14:23:08.189804Z",
     "iopub.status.idle": "2023-05-13T14:23:08.194460Z",
     "shell.execute_reply": "2023-05-13T14:23:08.193687Z"
    },
    "papermill": {
     "duration": 0.025724,
     "end_time": "2023-05-13T14:23:08.196666",
     "exception": false,
     "start_time": "2023-05-13T14:23:08.170942",
     "status": "completed"
    },
    "tags": []
   },
   "outputs": [
    {
     "name": "stdout",
     "output_type": "stream",
     "text": [
      "[1, 2, 3, 4, 5]\n"
     ]
    }
   ],
   "source": [
    "lst = [1,2,3,4,5]\n",
    "print(lst)"
   ]
  },
  {
   "cell_type": "code",
   "execution_count": 4,
   "id": "c67ef078",
   "metadata": {
    "execution": {
     "iopub.execute_input": "2023-05-13T14:23:08.235411Z",
     "iopub.status.busy": "2023-05-13T14:23:08.234779Z",
     "iopub.status.idle": "2023-05-13T14:23:08.242170Z",
     "shell.execute_reply": "2023-05-13T14:23:08.241412Z"
    },
    "papermill": {
     "duration": 0.027837,
     "end_time": "2023-05-13T14:23:08.243616",
     "exception": false,
     "start_time": "2023-05-13T14:23:08.215779",
     "status": "completed"
    },
    "tags": []
   },
   "outputs": [
    {
     "name": "stdout",
     "output_type": "stream",
     "text": [
      "1D Array\n",
      "[1 2 3 4 5]\n",
      "2D Array\n",
      "[[ 1  2  3  4  5]\n",
      " [ 6  7  8  9 10]]\n",
      "3D Array\n",
      "[[[ 1  2  3  4  5]\n",
      "  [ 6  7  8  9 10]\n",
      "  [11 12 13 14 15]]]\n"
     ]
    }
   ],
   "source": [
    "#Array (in numpy we can store multi-dimentional array)\n",
    "\n",
    "print('1D Array')\n",
    "a = np.array([1,2,3,4,5])\n",
    "print(a)\n",
    "\n",
    "print('2D Array')\n",
    "b = np.array([[1,2,3,4,5],[6,7,8,9,10]])\n",
    "print(b)\n",
    "\n",
    "print('3D Array')\n",
    "c = np.array([[[1,2,3,4,5],[6,7,8,9,10],[11,12,13,14,15]]])\n",
    "print(c)"
   ]
  },
  {
   "cell_type": "code",
   "execution_count": 5,
   "id": "81f186a7",
   "metadata": {
    "execution": {
     "iopub.execute_input": "2023-05-13T14:23:08.280923Z",
     "iopub.status.busy": "2023-05-13T14:23:08.280525Z",
     "iopub.status.idle": "2023-05-13T14:23:08.285648Z",
     "shell.execute_reply": "2023-05-13T14:23:08.284790Z"
    },
    "papermill": {
     "duration": 0.02574,
     "end_time": "2023-05-13T14:23:08.287417",
     "exception": false,
     "start_time": "2023-05-13T14:23:08.261677",
     "status": "completed"
    },
    "tags": []
   },
   "outputs": [
    {
     "data": {
      "text/plain": [
       "numpy.ndarray"
      ]
     },
     "execution_count": 5,
     "metadata": {},
     "output_type": "execute_result"
    }
   ],
   "source": [
    "type(a)"
   ]
  },
  {
   "cell_type": "code",
   "execution_count": 6,
   "id": "256d61e4",
   "metadata": {
    "execution": {
     "iopub.execute_input": "2023-05-13T14:23:08.326524Z",
     "iopub.status.busy": "2023-05-13T14:23:08.326060Z",
     "iopub.status.idle": "2023-05-13T14:23:08.330228Z",
     "shell.execute_reply": "2023-05-13T14:23:08.329456Z"
    },
    "papermill": {
     "duration": 0.025112,
     "end_time": "2023-05-13T14:23:08.331763",
     "exception": false,
     "start_time": "2023-05-13T14:23:08.306651",
     "status": "completed"
    },
    "tags": []
   },
   "outputs": [
    {
     "name": "stdout",
     "output_type": "stream",
     "text": [
      "5\n",
      "10\n",
      "15\n"
     ]
    }
   ],
   "source": [
    "#SIZE (it gives us the number of elements)\n",
    "\n",
    "print(a.size)\n",
    "print(b.size)\n",
    "print(c.size)"
   ]
  },
  {
   "cell_type": "code",
   "execution_count": 7,
   "id": "1b08b2d9",
   "metadata": {
    "execution": {
     "iopub.execute_input": "2023-05-13T14:23:08.369116Z",
     "iopub.status.busy": "2023-05-13T14:23:08.368866Z",
     "iopub.status.idle": "2023-05-13T14:23:08.372390Z",
     "shell.execute_reply": "2023-05-13T14:23:08.371849Z"
    },
    "papermill": {
     "duration": 0.024123,
     "end_time": "2023-05-13T14:23:08.373994",
     "exception": false,
     "start_time": "2023-05-13T14:23:08.349871",
     "status": "completed"
    },
    "tags": []
   },
   "outputs": [
    {
     "name": "stdout",
     "output_type": "stream",
     "text": [
      "(5,)\n",
      "(2, 5)\n",
      "(1, 3, 5)\n"
     ]
    }
   ],
   "source": [
    "#SHAPE (it gives us number of rows and columns)\n",
    "\n",
    "print(a.shape)\n",
    "print(b.shape)\n",
    "print(c.shape)"
   ]
  },
  {
   "cell_type": "code",
   "execution_count": 8,
   "id": "ee3d41fe",
   "metadata": {
    "execution": {
     "iopub.execute_input": "2023-05-13T14:23:08.411659Z",
     "iopub.status.busy": "2023-05-13T14:23:08.411425Z",
     "iopub.status.idle": "2023-05-13T14:23:08.415866Z",
     "shell.execute_reply": "2023-05-13T14:23:08.415016Z"
    },
    "papermill": {
     "duration": 0.025195,
     "end_time": "2023-05-13T14:23:08.417560",
     "exception": false,
     "start_time": "2023-05-13T14:23:08.392365",
     "status": "completed"
    },
    "tags": []
   },
   "outputs": [
    {
     "name": "stdout",
     "output_type": "stream",
     "text": [
      "int64\n",
      "int64\n",
      "int64\n"
     ]
    }
   ],
   "source": [
    "#DATATYPES (it gives us the type of data present in array)\n",
    "\n",
    "print(a.dtype)\n",
    "print(b.dtype)\n",
    "print(c.dtype)\n",
    "\n"
   ]
  },
  {
   "cell_type": "code",
   "execution_count": 9,
   "id": "5b8718c7",
   "metadata": {
    "execution": {
     "iopub.execute_input": "2023-05-13T14:23:08.456508Z",
     "iopub.status.busy": "2023-05-13T14:23:08.456287Z",
     "iopub.status.idle": "2023-05-13T14:23:08.460372Z",
     "shell.execute_reply": "2023-05-13T14:23:08.459512Z"
    },
    "papermill": {
     "duration": 0.024977,
     "end_time": "2023-05-13T14:23:08.461945",
     "exception": false,
     "start_time": "2023-05-13T14:23:08.436968",
     "status": "completed"
    },
    "tags": []
   },
   "outputs": [
    {
     "name": "stdout",
     "output_type": "stream",
     "text": [
      "float64\n"
     ]
    }
   ],
   "source": [
    "d= np.array([[1,2,3.3,4,5.5],[6.1,7,8,9.5,10],[11,12,13.5,14.7,15]])\n",
    "print(d.dtype)"
   ]
  },
  {
   "cell_type": "code",
   "execution_count": 10,
   "id": "bc650348",
   "metadata": {
    "execution": {
     "iopub.execute_input": "2023-05-13T14:23:08.501302Z",
     "iopub.status.busy": "2023-05-13T14:23:08.500794Z",
     "iopub.status.idle": "2023-05-13T14:23:08.506041Z",
     "shell.execute_reply": "2023-05-13T14:23:08.505462Z"
    },
    "papermill": {
     "duration": 0.02718,
     "end_time": "2023-05-13T14:23:08.507521",
     "exception": false,
     "start_time": "2023-05-13T14:23:08.480341",
     "status": "completed"
    },
    "tags": []
   },
   "outputs": [
    {
     "data": {
      "text/plain": [
       "array([[ 1. ,  6.1, 11. ],\n",
       "       [ 2. ,  7. , 12. ],\n",
       "       [ 3.3,  8. , 13.5],\n",
       "       [ 4. ,  9.5, 14.7],\n",
       "       [ 5.5, 10. , 15. ]])"
      ]
     },
     "execution_count": 10,
     "metadata": {},
     "output_type": "execute_result"
    }
   ],
   "source": [
    "# arr.transpose (it replace rows into column & column into rows)\n",
    "\n",
    "d.transpose()\n"
   ]
  },
  {
   "cell_type": "markdown",
   "id": "d6e92c45",
   "metadata": {
    "papermill": {
     "duration": 0.018849,
     "end_time": "2023-05-13T14:23:08.546679",
     "exception": false,
     "start_time": "2023-05-13T14:23:08.527830",
     "status": "completed"
    },
    "tags": []
   },
   "source": [
    "# np.ones, np.zeros, np.empty functions"
   ]
  },
  {
   "cell_type": "code",
   "execution_count": 11,
   "id": "45a257aa",
   "metadata": {
    "execution": {
     "iopub.execute_input": "2023-05-13T14:23:08.586759Z",
     "iopub.status.busy": "2023-05-13T14:23:08.585666Z",
     "iopub.status.idle": "2023-05-13T14:23:08.592013Z",
     "shell.execute_reply": "2023-05-13T14:23:08.591304Z"
    },
    "papermill": {
     "duration": 0.028146,
     "end_time": "2023-05-13T14:23:08.593554",
     "exception": false,
     "start_time": "2023-05-13T14:23:08.565408",
     "status": "completed"
    },
    "tags": []
   },
   "outputs": [
    {
     "data": {
      "text/plain": [
       "array([[94904915590352,              0,   489626271861,   433791696995],\n",
       "       [  498216206368,   468151435365,   476741369968,   416611827826],\n",
       "       [  450971566194,   519691042924,   502511173664,   416611827822],\n",
       "       [  416611827830,   463856468073,   420906795105,   433791697004]])"
      ]
     },
     "execution_count": 11,
     "metadata": {},
     "output_type": "execute_result"
    }
   ],
   "source": [
    "# np.empty((tuple), dtype)\n",
    "\n",
    "np.empty((4,4), dtype = int)"
   ]
  },
  {
   "cell_type": "code",
   "execution_count": 12,
   "id": "7757e15f",
   "metadata": {
    "execution": {
     "iopub.execute_input": "2023-05-13T14:23:08.632421Z",
     "iopub.status.busy": "2023-05-13T14:23:08.632141Z",
     "iopub.status.idle": "2023-05-13T14:23:08.637847Z",
     "shell.execute_reply": "2023-05-13T14:23:08.637085Z"
    },
    "papermill": {
     "duration": 0.027524,
     "end_time": "2023-05-13T14:23:08.639622",
     "exception": false,
     "start_time": "2023-05-13T14:23:08.612098",
     "status": "completed"
    },
    "tags": []
   },
   "outputs": [
    {
     "data": {
      "text/plain": [
       "array([[4.68892585e-310, 0.00000000e+000, 2.41907520e-312,\n",
       "        2.14321575e-312],\n",
       "       [2.46151512e-312, 2.31297541e-312, 2.35541533e-312,\n",
       "        2.05833592e-312],\n",
       "       [2.22809558e-312, 2.56761491e-312, 2.48273508e-312,\n",
       "        2.05833592e-312],\n",
       "       [2.05833592e-312, 2.29175545e-312, 2.07955588e-312,\n",
       "        2.14321575e-312]])"
      ]
     },
     "execution_count": 12,
     "metadata": {},
     "output_type": "execute_result"
    }
   ],
   "source": [
    "np.empty((4,4), dtype = float)"
   ]
  },
  {
   "cell_type": "code",
   "execution_count": 13,
   "id": "340a27bd",
   "metadata": {
    "execution": {
     "iopub.execute_input": "2023-05-13T14:23:08.679706Z",
     "iopub.status.busy": "2023-05-13T14:23:08.679466Z",
     "iopub.status.idle": "2023-05-13T14:23:08.683649Z",
     "shell.execute_reply": "2023-05-13T14:23:08.683156Z"
    },
    "papermill": {
     "duration": 0.02517,
     "end_time": "2023-05-13T14:23:08.684983",
     "exception": false,
     "start_time": "2023-05-13T14:23:08.659813",
     "status": "completed"
    },
    "tags": []
   },
   "outputs": [
    {
     "data": {
      "text/plain": [
       "array([1., 1., 1., 1., 1., 1., 1., 1.])"
      ]
     },
     "execution_count": 13,
     "metadata": {},
     "output_type": "execute_result"
    }
   ],
   "source": [
    "# np.ones((rows,cols), dtype)\n",
    "\n",
    "x = np.ones(8)\n",
    "x"
   ]
  },
  {
   "cell_type": "code",
   "execution_count": 14,
   "id": "3c4ca652",
   "metadata": {
    "execution": {
     "iopub.execute_input": "2023-05-13T14:23:08.723647Z",
     "iopub.status.busy": "2023-05-13T14:23:08.723403Z",
     "iopub.status.idle": "2023-05-13T14:23:08.728504Z",
     "shell.execute_reply": "2023-05-13T14:23:08.727714Z"
    },
    "papermill": {
     "duration": 0.02627,
     "end_time": "2023-05-13T14:23:08.729976",
     "exception": false,
     "start_time": "2023-05-13T14:23:08.703706",
     "status": "completed"
    },
    "tags": []
   },
   "outputs": [
    {
     "data": {
      "text/plain": [
       "array([[1., 1., 1., 1.],\n",
       "       [1., 1., 1., 1.],\n",
       "       [1., 1., 1., 1.],\n",
       "       [1., 1., 1., 1.],\n",
       "       [1., 1., 1., 1.]])"
      ]
     },
     "execution_count": 14,
     "metadata": {},
     "output_type": "execute_result"
    }
   ],
   "source": [
    "y = np.ones((5,4))\n",
    "y"
   ]
  },
  {
   "cell_type": "code",
   "execution_count": 15,
   "id": "f76da04b",
   "metadata": {
    "execution": {
     "iopub.execute_input": "2023-05-13T14:23:08.768755Z",
     "iopub.status.busy": "2023-05-13T14:23:08.768504Z",
     "iopub.status.idle": "2023-05-13T14:23:08.773489Z",
     "shell.execute_reply": "2023-05-13T14:23:08.772758Z"
    },
    "papermill": {
     "duration": 0.026156,
     "end_time": "2023-05-13T14:23:08.774939",
     "exception": false,
     "start_time": "2023-05-13T14:23:08.748783",
     "status": "completed"
    },
    "tags": []
   },
   "outputs": [
    {
     "data": {
      "text/plain": [
       "array([[1, 1, 1],\n",
       "       [1, 1, 1],\n",
       "       [1, 1, 1],\n",
       "       [1, 1, 1]])"
      ]
     },
     "execution_count": 15,
     "metadata": {},
     "output_type": "execute_result"
    }
   ],
   "source": [
    "z = np.ones((4,3), dtype = int)\n",
    "z"
   ]
  },
  {
   "cell_type": "code",
   "execution_count": 16,
   "id": "7cfe3234",
   "metadata": {
    "execution": {
     "iopub.execute_input": "2023-05-13T14:23:08.813652Z",
     "iopub.status.busy": "2023-05-13T14:23:08.813415Z",
     "iopub.status.idle": "2023-05-13T14:23:08.818159Z",
     "shell.execute_reply": "2023-05-13T14:23:08.817404Z"
    },
    "papermill": {
     "duration": 0.025677,
     "end_time": "2023-05-13T14:23:08.819513",
     "exception": false,
     "start_time": "2023-05-13T14:23:08.793836",
     "status": "completed"
    },
    "tags": []
   },
   "outputs": [
    {
     "data": {
      "text/plain": [
       "array([0., 0., 0., 0.])"
      ]
     },
     "execution_count": 16,
     "metadata": {},
     "output_type": "execute_result"
    }
   ],
   "source": [
    "# np.zeros((rows, cols), dtype)\n",
    "\n",
    "x = np.zeros(4)\n",
    "x"
   ]
  },
  {
   "cell_type": "code",
   "execution_count": 17,
   "id": "ea256d55",
   "metadata": {
    "execution": {
     "iopub.execute_input": "2023-05-13T14:23:08.858335Z",
     "iopub.status.busy": "2023-05-13T14:23:08.858117Z",
     "iopub.status.idle": "2023-05-13T14:23:08.862423Z",
     "shell.execute_reply": "2023-05-13T14:23:08.861689Z"
    },
    "papermill": {
     "duration": 0.02541,
     "end_time": "2023-05-13T14:23:08.863954",
     "exception": false,
     "start_time": "2023-05-13T14:23:08.838544",
     "status": "completed"
    },
    "tags": []
   },
   "outputs": [
    {
     "data": {
      "text/plain": [
       "array([[0., 0., 0., 0., 0., 0.],\n",
       "       [0., 0., 0., 0., 0., 0.],\n",
       "       [0., 0., 0., 0., 0., 0.],\n",
       "       [0., 0., 0., 0., 0., 0.]])"
      ]
     },
     "execution_count": 17,
     "metadata": {},
     "output_type": "execute_result"
    }
   ],
   "source": [
    "y = np.zeros((4,6))\n",
    "y"
   ]
  },
  {
   "cell_type": "code",
   "execution_count": 18,
   "id": "4c51215f",
   "metadata": {
    "execution": {
     "iopub.execute_input": "2023-05-13T14:23:08.904515Z",
     "iopub.status.busy": "2023-05-13T14:23:08.904290Z",
     "iopub.status.idle": "2023-05-13T14:23:08.909175Z",
     "shell.execute_reply": "2023-05-13T14:23:08.908397Z"
    },
    "papermill": {
     "duration": 0.026214,
     "end_time": "2023-05-13T14:23:08.910597",
     "exception": false,
     "start_time": "2023-05-13T14:23:08.884383",
     "status": "completed"
    },
    "tags": []
   },
   "outputs": [
    {
     "data": {
      "text/plain": [
       "array([[0, 0, 0, 0, 0, 0],\n",
       "       [0, 0, 0, 0, 0, 0],\n",
       "       [0, 0, 0, 0, 0, 0]])"
      ]
     },
     "execution_count": 18,
     "metadata": {},
     "output_type": "execute_result"
    }
   ],
   "source": [
    "z = np.zeros((3,6), dtype = int)\n",
    "z"
   ]
  },
  {
   "cell_type": "code",
   "execution_count": 19,
   "id": "6662263b",
   "metadata": {
    "execution": {
     "iopub.execute_input": "2023-05-13T14:23:08.949988Z",
     "iopub.status.busy": "2023-05-13T14:23:08.949742Z",
     "iopub.status.idle": "2023-05-13T14:23:08.954615Z",
     "shell.execute_reply": "2023-05-13T14:23:08.953914Z"
    },
    "papermill": {
     "duration": 0.026433,
     "end_time": "2023-05-13T14:23:08.956144",
     "exception": false,
     "start_time": "2023-05-13T14:23:08.929711",
     "status": "completed"
    },
    "tags": []
   },
   "outputs": [
    {
     "data": {
      "text/plain": [
       "array([['1', '1', '1', '1', '1'],\n",
       "       ['1', '1', '1', '1', '1'],\n",
       "       ['1', '1', '1', '1', '1'],\n",
       "       ['1', '1', '1', '1', '1']], dtype='<U1')"
      ]
     },
     "execution_count": 19,
     "metadata": {},
     "output_type": "execute_result"
    }
   ],
   "source": [
    "z = np.ones((4,5), dtype = str)\n",
    "z"
   ]
  },
  {
   "cell_type": "code",
   "execution_count": 20,
   "id": "10481a68",
   "metadata": {
    "execution": {
     "iopub.execute_input": "2023-05-13T14:23:08.996450Z",
     "iopub.status.busy": "2023-05-13T14:23:08.996120Z",
     "iopub.status.idle": "2023-05-13T14:23:09.001374Z",
     "shell.execute_reply": "2023-05-13T14:23:09.000648Z"
    },
    "papermill": {
     "duration": 0.027374,
     "end_time": "2023-05-13T14:23:09.002771",
     "exception": false,
     "start_time": "2023-05-13T14:23:08.975397",
     "status": "completed"
    },
    "tags": []
   },
   "outputs": [
    {
     "data": {
      "text/plain": [
       "array([[ True,  True,  True,  True,  True,  True,  True],\n",
       "       [ True,  True,  True,  True,  True,  True,  True],\n",
       "       [ True,  True,  True,  True,  True,  True,  True]])"
      ]
     },
     "execution_count": 20,
     "metadata": {},
     "output_type": "execute_result"
    }
   ],
   "source": [
    "y = np.ones((3,7), dtype = bool)\n",
    "y"
   ]
  },
  {
   "cell_type": "code",
   "execution_count": 21,
   "id": "0614c533",
   "metadata": {
    "execution": {
     "iopub.execute_input": "2023-05-13T14:23:09.042535Z",
     "iopub.status.busy": "2023-05-13T14:23:09.042272Z",
     "iopub.status.idle": "2023-05-13T14:23:09.047177Z",
     "shell.execute_reply": "2023-05-13T14:23:09.046410Z"
    },
    "papermill": {
     "duration": 0.026651,
     "end_time": "2023-05-13T14:23:09.048608",
     "exception": false,
     "start_time": "2023-05-13T14:23:09.021957",
     "status": "completed"
    },
    "tags": []
   },
   "outputs": [
    {
     "data": {
      "text/plain": [
       "array([['', '', '', '', ''],\n",
       "       ['', '', '', '', ''],\n",
       "       ['', '', '', '', ''],\n",
       "       ['', '', '', '', '']], dtype='<U1')"
      ]
     },
     "execution_count": 21,
     "metadata": {},
     "output_type": "execute_result"
    }
   ],
   "source": [
    "z = np.zeros((4,5), dtype = str)\n",
    "z"
   ]
  },
  {
   "cell_type": "code",
   "execution_count": 22,
   "id": "ea23e740",
   "metadata": {
    "execution": {
     "iopub.execute_input": "2023-05-13T14:23:09.090654Z",
     "iopub.status.busy": "2023-05-13T14:23:09.090423Z",
     "iopub.status.idle": "2023-05-13T14:23:09.095342Z",
     "shell.execute_reply": "2023-05-13T14:23:09.094568Z"
    },
    "papermill": {
     "duration": 0.02706,
     "end_time": "2023-05-13T14:23:09.096766",
     "exception": false,
     "start_time": "2023-05-13T14:23:09.069706",
     "status": "completed"
    },
    "tags": []
   },
   "outputs": [
    {
     "data": {
      "text/plain": [
       "array([[False, False, False, False, False, False, False],\n",
       "       [False, False, False, False, False, False, False],\n",
       "       [False, False, False, False, False, False, False]])"
      ]
     },
     "execution_count": 22,
     "metadata": {},
     "output_type": "execute_result"
    }
   ],
   "source": [
    "y = np.zeros((3,7), dtype = bool)\n",
    "y"
   ]
  },
  {
   "cell_type": "markdown",
   "id": "de643206",
   "metadata": {
    "papermill": {
     "duration": 0.019428,
     "end_time": "2023-05-13T14:23:09.137085",
     "exception": false,
     "start_time": "2023-05-13T14:23:09.117657",
     "status": "completed"
    },
    "tags": []
   },
   "source": [
    "# ADVANCED FUNCTIONS (np.arange(), np.flatten(), np.ravel(), np.reshape())"
   ]
  },
  {
   "cell_type": "markdown",
   "id": "1f6bcd5a",
   "metadata": {
    "papermill": {
     "duration": 0.019673,
     "end_time": "2023-05-13T14:23:09.177440",
     "exception": false,
     "start_time": "2023-05-13T14:23:09.157767",
     "status": "completed"
    },
    "tags": []
   },
   "source": [
    "### It use in every data analysis & when we need to give axis in Matplotlib"
   ]
  },
  {
   "cell_type": "code",
   "execution_count": 23,
   "id": "8804c95c",
   "metadata": {
    "execution": {
     "iopub.execute_input": "2023-05-13T14:23:09.219398Z",
     "iopub.status.busy": "2023-05-13T14:23:09.219134Z",
     "iopub.status.idle": "2023-05-13T14:23:09.223452Z",
     "shell.execute_reply": "2023-05-13T14:23:09.222587Z"
    },
    "papermill": {
     "duration": 0.02841,
     "end_time": "2023-05-13T14:23:09.225424",
     "exception": false,
     "start_time": "2023-05-13T14:23:09.197014",
     "status": "completed"
    },
    "tags": []
   },
   "outputs": [
    {
     "name": "stdout",
     "output_type": "stream",
     "text": [
      "[ 1  2  3  4  5  6  7  8  9 10 11 12 13 14 15 16 17 18 19]\n"
     ]
    }
   ],
   "source": [
    "# np.arange(start,end,step)---- its like for loop, but here we are giving 3 parameters:-\n",
    "\n",
    "a = np.arange(1,20)\n",
    "print(a)"
   ]
  },
  {
   "cell_type": "code",
   "execution_count": 24,
   "id": "c304fa51",
   "metadata": {
    "execution": {
     "iopub.execute_input": "2023-05-13T14:23:09.268438Z",
     "iopub.status.busy": "2023-05-13T14:23:09.267730Z",
     "iopub.status.idle": "2023-05-13T14:23:09.272698Z",
     "shell.execute_reply": "2023-05-13T14:23:09.271626Z"
    },
    "papermill": {
     "duration": 0.028957,
     "end_time": "2023-05-13T14:23:09.274390",
     "exception": false,
     "start_time": "2023-05-13T14:23:09.245433",
     "status": "completed"
    },
    "tags": []
   },
   "outputs": [
    {
     "name": "stdout",
     "output_type": "stream",
     "text": [
      "[ 1  3  5  7  9 11 13 15 17 19]\n"
     ]
    }
   ],
   "source": [
    "##odd number\n",
    "\n",
    "a = np.arange(1,20,2)\n",
    "print(a)"
   ]
  },
  {
   "cell_type": "code",
   "execution_count": 25,
   "id": "b7b3d7f8",
   "metadata": {
    "execution": {
     "iopub.execute_input": "2023-05-13T14:23:09.315028Z",
     "iopub.status.busy": "2023-05-13T14:23:09.314754Z",
     "iopub.status.idle": "2023-05-13T14:23:09.319324Z",
     "shell.execute_reply": "2023-05-13T14:23:09.318263Z"
    },
    "papermill": {
     "duration": 0.026771,
     "end_time": "2023-05-13T14:23:09.321043",
     "exception": false,
     "start_time": "2023-05-13T14:23:09.294272",
     "status": "completed"
    },
    "tags": []
   },
   "outputs": [
    {
     "name": "stdout",
     "output_type": "stream",
     "text": [
      "[ 2  4  6  8 10 12 14 16 18]\n"
     ]
    }
   ],
   "source": [
    "##even number\n",
    "\n",
    "a = np.arange(2,20,2)\n",
    "print(a)"
   ]
  },
  {
   "cell_type": "code",
   "execution_count": 26,
   "id": "436106f7",
   "metadata": {
    "execution": {
     "iopub.execute_input": "2023-05-13T14:23:09.361734Z",
     "iopub.status.busy": "2023-05-13T14:23:09.361485Z",
     "iopub.status.idle": "2023-05-13T14:23:09.367392Z",
     "shell.execute_reply": "2023-05-13T14:23:09.366543Z"
    },
    "papermill": {
     "duration": 0.028159,
     "end_time": "2023-05-13T14:23:09.369055",
     "exception": false,
     "start_time": "2023-05-13T14:23:09.340896",
     "status": "completed"
    },
    "tags": []
   },
   "outputs": [
    {
     "data": {
      "text/plain": [
       "array([[ 2,  4,  6],\n",
       "       [ 8, 10, 12],\n",
       "       [14, 16, 18]])"
      ]
     },
     "execution_count": 26,
     "metadata": {},
     "output_type": "execute_result"
    }
   ],
   "source": [
    "# Reshape\n",
    "##arr.reshape((rows, cols))\n",
    "\n",
    "a = a.reshape((3,3))\n",
    "a"
   ]
  },
  {
   "cell_type": "code",
   "execution_count": 27,
   "id": "6fcd13fb",
   "metadata": {
    "execution": {
     "iopub.execute_input": "2023-05-13T14:23:09.409908Z",
     "iopub.status.busy": "2023-05-13T14:23:09.409648Z",
     "iopub.status.idle": "2023-05-13T14:23:09.415045Z",
     "shell.execute_reply": "2023-05-13T14:23:09.414263Z"
    },
    "papermill": {
     "duration": 0.027417,
     "end_time": "2023-05-13T14:23:09.416484",
     "exception": false,
     "start_time": "2023-05-13T14:23:09.389067",
     "status": "completed"
    },
    "tags": []
   },
   "outputs": [
    {
     "data": {
      "text/plain": [
       "array([ 1,  3,  5,  7,  9, 11, 13, 15, 17, 19, 21, 23, 25, 27, 29, 31, 33,\n",
       "       35, 37, 39, 41, 43, 45, 47, 49, 51, 53, 55, 57, 59, 61, 63, 65, 67,\n",
       "       69, 71, 73, 75, 77, 79, 81, 83, 85, 87, 89, 91, 93, 95, 97, 99])"
      ]
     },
     "execution_count": 27,
     "metadata": {},
     "output_type": "execute_result"
    }
   ],
   "source": [
    "b = np.arange(1,100,2)\n",
    "b"
   ]
  },
  {
   "cell_type": "code",
   "execution_count": 28,
   "id": "0b82d41d",
   "metadata": {
    "execution": {
     "iopub.execute_input": "2023-05-13T14:23:09.457910Z",
     "iopub.status.busy": "2023-05-13T14:23:09.457639Z",
     "iopub.status.idle": "2023-05-13T14:23:09.462811Z",
     "shell.execute_reply": "2023-05-13T14:23:09.462056Z"
    },
    "papermill": {
     "duration": 0.027657,
     "end_time": "2023-05-13T14:23:09.464176",
     "exception": false,
     "start_time": "2023-05-13T14:23:09.436519",
     "status": "completed"
    },
    "tags": []
   },
   "outputs": [
    {
     "data": {
      "text/plain": [
       "array([[ 1,  3,  5,  7,  9],\n",
       "       [11, 13, 15, 17, 19],\n",
       "       [21, 23, 25, 27, 29],\n",
       "       [31, 33, 35, 37, 39],\n",
       "       [41, 43, 45, 47, 49],\n",
       "       [51, 53, 55, 57, 59],\n",
       "       [61, 63, 65, 67, 69],\n",
       "       [71, 73, 75, 77, 79],\n",
       "       [81, 83, 85, 87, 89],\n",
       "       [91, 93, 95, 97, 99]])"
      ]
     },
     "execution_count": 28,
     "metadata": {},
     "output_type": "execute_result"
    }
   ],
   "source": [
    "b = b.reshape((10,5))\n",
    "b"
   ]
  },
  {
   "cell_type": "code",
   "execution_count": 29,
   "id": "0b123994",
   "metadata": {
    "execution": {
     "iopub.execute_input": "2023-05-13T14:23:09.505264Z",
     "iopub.status.busy": "2023-05-13T14:23:09.505035Z",
     "iopub.status.idle": "2023-05-13T14:23:09.509487Z",
     "shell.execute_reply": "2023-05-13T14:23:09.508781Z"
    },
    "papermill": {
     "duration": 0.026809,
     "end_time": "2023-05-13T14:23:09.511025",
     "exception": false,
     "start_time": "2023-05-13T14:23:09.484216",
     "status": "completed"
    },
    "tags": []
   },
   "outputs": [
    {
     "data": {
      "text/plain": [
       "array([ 1,  3,  5,  7,  9, 11, 13, 15, 17, 19, 21, 23, 25, 27, 29, 31, 33,\n",
       "       35, 37, 39, 41, 43, 45, 47, 49, 51, 53, 55, 57, 59, 61, 63, 65, 67,\n",
       "       69, 71, 73, 75, 77, 79, 81, 83, 85, 87, 89, 91, 93, 95, 97, 99])"
      ]
     },
     "execution_count": 29,
     "metadata": {},
     "output_type": "execute_result"
    }
   ],
   "source": [
    "##inverse process of reshape i,e single row & multi cols\n",
    "b = b.flatten()\n",
    "b"
   ]
  },
  {
   "cell_type": "code",
   "execution_count": 30,
   "id": "9089d9f8",
   "metadata": {
    "execution": {
     "iopub.execute_input": "2023-05-13T14:23:09.554231Z",
     "iopub.status.busy": "2023-05-13T14:23:09.553970Z",
     "iopub.status.idle": "2023-05-13T14:23:09.558495Z",
     "shell.execute_reply": "2023-05-13T14:23:09.557936Z"
    },
    "papermill": {
     "duration": 0.026999,
     "end_time": "2023-05-13T14:23:09.559929",
     "exception": false,
     "start_time": "2023-05-13T14:23:09.532930",
     "status": "completed"
    },
    "tags": []
   },
   "outputs": [
    {
     "data": {
      "text/plain": [
       "array([ 2,  4,  6,  8, 10, 12, 14, 16, 18])"
      ]
     },
     "execution_count": 30,
     "metadata": {},
     "output_type": "execute_result"
    }
   ],
   "source": [
    "a = a.ravel()\n",
    "a"
   ]
  },
  {
   "cell_type": "markdown",
   "id": "aa39bce3",
   "metadata": {
    "papermill": {
     "duration": 0.020323,
     "end_time": "2023-05-13T14:23:09.602154",
     "exception": false,
     "start_time": "2023-05-13T14:23:09.581831",
     "status": "completed"
    },
    "tags": []
   },
   "source": [
    "# ARRAY SLICING OPERATIONS"
   ]
  },
  {
   "cell_type": "code",
   "execution_count": 31,
   "id": "17618028",
   "metadata": {
    "execution": {
     "iopub.execute_input": "2023-05-13T14:23:09.644450Z",
     "iopub.status.busy": "2023-05-13T14:23:09.644208Z",
     "iopub.status.idle": "2023-05-13T14:23:09.649806Z",
     "shell.execute_reply": "2023-05-13T14:23:09.649080Z"
    },
    "papermill": {
     "duration": 0.028847,
     "end_time": "2023-05-13T14:23:09.651459",
     "exception": false,
     "start_time": "2023-05-13T14:23:09.622612",
     "status": "completed"
    },
    "tags": []
   },
   "outputs": [
    {
     "data": {
      "text/plain": [
       "array([[ 1,  2,  3,  4,  5],\n",
       "       [ 6,  7,  8,  9, 10],\n",
       "       [11, 12, 13, 14, 15],\n",
       "       [16, 17, 18, 19, 20],\n",
       "       [21, 22, 23, 24, 25],\n",
       "       [26, 27, 28, 29, 30],\n",
       "       [31, 32, 33, 34, 35],\n",
       "       [36, 37, 38, 39, 40],\n",
       "       [41, 42, 43, 44, 45],\n",
       "       [46, 47, 48, 49, 50]])"
      ]
     },
     "execution_count": 31,
     "metadata": {},
     "output_type": "execute_result"
    }
   ],
   "source": [
    "a = np.arange(1,51)\n",
    "a = a.reshape(10,5)\n",
    "a"
   ]
  },
  {
   "cell_type": "code",
   "execution_count": 32,
   "id": "5676e63f",
   "metadata": {
    "execution": {
     "iopub.execute_input": "2023-05-13T14:23:09.693377Z",
     "iopub.status.busy": "2023-05-13T14:23:09.693159Z",
     "iopub.status.idle": "2023-05-13T14:23:09.698227Z",
     "shell.execute_reply": "2023-05-13T14:23:09.697476Z"
    },
    "papermill": {
     "duration": 0.027944,
     "end_time": "2023-05-13T14:23:09.699846",
     "exception": false,
     "start_time": "2023-05-13T14:23:09.671902",
     "status": "completed"
    },
    "tags": []
   },
   "outputs": [
    {
     "data": {
      "text/plain": [
       "array([1, 2, 3, 4, 5])"
      ]
     },
     "execution_count": 32,
     "metadata": {},
     "output_type": "execute_result"
    }
   ],
   "source": [
    "##SLICING\n",
    "\n",
    "a[0]"
   ]
  },
  {
   "cell_type": "code",
   "execution_count": 33,
   "id": "ea7b1967",
   "metadata": {
    "execution": {
     "iopub.execute_input": "2023-05-13T14:23:09.742842Z",
     "iopub.status.busy": "2023-05-13T14:23:09.742397Z",
     "iopub.status.idle": "2023-05-13T14:23:09.746957Z",
     "shell.execute_reply": "2023-05-13T14:23:09.746397Z"
    },
    "papermill": {
     "duration": 0.027382,
     "end_time": "2023-05-13T14:23:09.748311",
     "exception": false,
     "start_time": "2023-05-13T14:23:09.720929",
     "status": "completed"
    },
    "tags": []
   },
   "outputs": [
    {
     "data": {
      "text/plain": [
       "array([11, 12, 13, 14, 15])"
      ]
     },
     "execution_count": 33,
     "metadata": {},
     "output_type": "execute_result"
    }
   ],
   "source": [
    "a[2]"
   ]
  },
  {
   "cell_type": "code",
   "execution_count": 34,
   "id": "3e35ef5e",
   "metadata": {
    "execution": {
     "iopub.execute_input": "2023-05-13T14:23:09.790307Z",
     "iopub.status.busy": "2023-05-13T14:23:09.789905Z",
     "iopub.status.idle": "2023-05-13T14:23:09.793852Z",
     "shell.execute_reply": "2023-05-13T14:23:09.793371Z"
    },
    "papermill": {
     "duration": 0.026237,
     "end_time": "2023-05-13T14:23:09.795159",
     "exception": false,
     "start_time": "2023-05-13T14:23:09.768922",
     "status": "completed"
    },
    "tags": []
   },
   "outputs": [
    {
     "data": {
      "text/plain": [
       "array([16, 17, 18, 19, 20])"
      ]
     },
     "execution_count": 34,
     "metadata": {},
     "output_type": "execute_result"
    }
   ],
   "source": [
    "a[3]"
   ]
  },
  {
   "cell_type": "code",
   "execution_count": 35,
   "id": "43b83bee",
   "metadata": {
    "execution": {
     "iopub.execute_input": "2023-05-13T14:23:09.837670Z",
     "iopub.status.busy": "2023-05-13T14:23:09.837433Z",
     "iopub.status.idle": "2023-05-13T14:23:09.842157Z",
     "shell.execute_reply": "2023-05-13T14:23:09.841427Z"
    },
    "papermill": {
     "duration": 0.027623,
     "end_time": "2023-05-13T14:23:09.843564",
     "exception": false,
     "start_time": "2023-05-13T14:23:09.815941",
     "status": "completed"
    },
    "tags": []
   },
   "outputs": [
    {
     "data": {
      "text/plain": [
       "1"
      ]
     },
     "execution_count": 35,
     "metadata": {},
     "output_type": "execute_result"
    }
   ],
   "source": [
    "a[0,0]"
   ]
  },
  {
   "cell_type": "code",
   "execution_count": 36,
   "id": "fe99d941",
   "metadata": {
    "execution": {
     "iopub.execute_input": "2023-05-13T14:23:09.893138Z",
     "iopub.status.busy": "2023-05-13T14:23:09.892523Z",
     "iopub.status.idle": "2023-05-13T14:23:09.898321Z",
     "shell.execute_reply": "2023-05-13T14:23:09.897464Z"
    },
    "papermill": {
     "duration": 0.033943,
     "end_time": "2023-05-13T14:23:09.900318",
     "exception": false,
     "start_time": "2023-05-13T14:23:09.866375",
     "status": "completed"
    },
    "tags": []
   },
   "outputs": [
    {
     "data": {
      "text/plain": [
       "20"
      ]
     },
     "execution_count": 36,
     "metadata": {},
     "output_type": "execute_result"
    }
   ],
   "source": [
    "a[3,4] #3rd row & 4th element"
   ]
  },
  {
   "cell_type": "code",
   "execution_count": 37,
   "id": "1d78f90e",
   "metadata": {
    "execution": {
     "iopub.execute_input": "2023-05-13T14:23:09.946016Z",
     "iopub.status.busy": "2023-05-13T14:23:09.945683Z",
     "iopub.status.idle": "2023-05-13T14:23:09.951319Z",
     "shell.execute_reply": "2023-05-13T14:23:09.950483Z"
    },
    "papermill": {
     "duration": 0.02981,
     "end_time": "2023-05-13T14:23:09.953007",
     "exception": false,
     "start_time": "2023-05-13T14:23:09.923197",
     "status": "completed"
    },
    "tags": []
   },
   "outputs": [
    {
     "data": {
      "text/plain": [
       "array([[11, 12, 13, 14, 15],\n",
       "       [16, 17, 18, 19, 20],\n",
       "       [21, 22, 23, 24, 25]])"
      ]
     },
     "execution_count": 37,
     "metadata": {},
     "output_type": "execute_result"
    }
   ],
   "source": [
    "a[2:5]  #2nd row to 4th row bcoz 5th will not appear"
   ]
  },
  {
   "cell_type": "code",
   "execution_count": 38,
   "id": "5a96251a",
   "metadata": {
    "execution": {
     "iopub.execute_input": "2023-05-13T14:23:10.008205Z",
     "iopub.status.busy": "2023-05-13T14:23:10.007699Z",
     "iopub.status.idle": "2023-05-13T14:23:10.012656Z",
     "shell.execute_reply": "2023-05-13T14:23:10.012094Z"
    },
    "papermill": {
     "duration": 0.033192,
     "end_time": "2023-05-13T14:23:10.014260",
     "exception": false,
     "start_time": "2023-05-13T14:23:09.981068",
     "status": "completed"
    },
    "tags": []
   },
   "outputs": [
    {
     "data": {
      "text/plain": [
       "array([[ 1,  2,  3,  4,  5],\n",
       "       [ 6,  7,  8,  9, 10],\n",
       "       [11, 12, 13, 14, 15],\n",
       "       [16, 17, 18, 19, 20],\n",
       "       [21, 22, 23, 24, 25],\n",
       "       [26, 27, 28, 29, 30],\n",
       "       [31, 32, 33, 34, 35],\n",
       "       [36, 37, 38, 39, 40],\n",
       "       [41, 42, 43, 44, 45],\n",
       "       [46, 47, 48, 49, 50]])"
      ]
     },
     "execution_count": 38,
     "metadata": {},
     "output_type": "execute_result"
    }
   ],
   "source": [
    "a[0:10]  # print all rows & cols"
   ]
  },
  {
   "cell_type": "code",
   "execution_count": 39,
   "id": "04103d2c",
   "metadata": {
    "execution": {
     "iopub.execute_input": "2023-05-13T14:23:10.062476Z",
     "iopub.status.busy": "2023-05-13T14:23:10.062163Z",
     "iopub.status.idle": "2023-05-13T14:23:10.067078Z",
     "shell.execute_reply": "2023-05-13T14:23:10.066321Z"
    },
    "papermill": {
     "duration": 0.029466,
     "end_time": "2023-05-13T14:23:10.068713",
     "exception": false,
     "start_time": "2023-05-13T14:23:10.039247",
     "status": "completed"
    },
    "tags": []
   },
   "outputs": [
    {
     "data": {
      "text/plain": [
       "array([ 3,  8, 13, 18, 23, 28, 33, 38, 43, 48])"
      ]
     },
     "execution_count": 39,
     "metadata": {},
     "output_type": "execute_result"
    }
   ],
   "source": [
    "a[:, 2]  # (:) means all the rows & (2) means the 2nd col"
   ]
  },
  {
   "cell_type": "code",
   "execution_count": 40,
   "id": "7d964680",
   "metadata": {
    "execution": {
     "iopub.execute_input": "2023-05-13T14:23:10.113630Z",
     "iopub.status.busy": "2023-05-13T14:23:10.113386Z",
     "iopub.status.idle": "2023-05-13T14:23:10.119391Z",
     "shell.execute_reply": "2023-05-13T14:23:10.118350Z"
    },
    "papermill": {
     "duration": 0.030716,
     "end_time": "2023-05-13T14:23:10.121648",
     "exception": false,
     "start_time": "2023-05-13T14:23:10.090932",
     "status": "completed"
    },
    "tags": []
   },
   "outputs": [
    {
     "data": {
      "text/plain": [
       "array([15, 20, 25])"
      ]
     },
     "execution_count": 40,
     "metadata": {},
     "output_type": "execute_result"
    }
   ],
   "source": [
    "a[2:5, 4]  # 2:5 means 2nd row to 5th row & 4 means from the 4th col"
   ]
  },
  {
   "cell_type": "code",
   "execution_count": 41,
   "id": "dc8c27ca",
   "metadata": {
    "execution": {
     "iopub.execute_input": "2023-05-13T14:23:10.170065Z",
     "iopub.status.busy": "2023-05-13T14:23:10.169322Z",
     "iopub.status.idle": "2023-05-13T14:23:10.175433Z",
     "shell.execute_reply": "2023-05-13T14:23:10.174665Z"
    },
    "papermill": {
     "duration": 0.030112,
     "end_time": "2023-05-13T14:23:10.176956",
     "exception": false,
     "start_time": "2023-05-13T14:23:10.146844",
     "status": "completed"
    },
    "tags": []
   },
   "outputs": [
    {
     "data": {
      "text/plain": [
       "array([[ 1,  2,  3,  4,  5],\n",
       "       [ 6,  7,  8,  9, 10],\n",
       "       [11, 12, 13, 14, 15],\n",
       "       [16, 17, 18, 19, 20],\n",
       "       [21, 22, 23, 24, 25],\n",
       "       [26, 27, 28, 29, 30],\n",
       "       [31, 32, 33, 34, 35],\n",
       "       [36, 37, 38, 39, 40],\n",
       "       [41, 42, 43, 44, 45],\n",
       "       [46, 47, 48, 49, 50]])"
      ]
     },
     "execution_count": 41,
     "metadata": {},
     "output_type": "execute_result"
    }
   ],
   "source": [
    "a[:,:]  # all row & cols"
   ]
  },
  {
   "cell_type": "code",
   "execution_count": 42,
   "id": "23efff4b",
   "metadata": {
    "execution": {
     "iopub.execute_input": "2023-05-13T14:23:10.220846Z",
     "iopub.status.busy": "2023-05-13T14:23:10.220440Z",
     "iopub.status.idle": "2023-05-13T14:23:10.225440Z",
     "shell.execute_reply": "2023-05-13T14:23:10.224918Z"
    },
    "papermill": {
     "duration": 0.02829,
     "end_time": "2023-05-13T14:23:10.226893",
     "exception": false,
     "start_time": "2023-05-13T14:23:10.198603",
     "status": "completed"
    },
    "tags": []
   },
   "outputs": [
    {
     "data": {
      "text/plain": [
       "array([[ 3,  4,  5],\n",
       "       [ 8,  9, 10],\n",
       "       [13, 14, 15],\n",
       "       [18, 19, 20],\n",
       "       [23, 24, 25],\n",
       "       [28, 29, 30],\n",
       "       [33, 34, 35],\n",
       "       [38, 39, 40],\n",
       "       [43, 44, 45],\n",
       "       [48, 49, 50]])"
      ]
     },
     "execution_count": 42,
     "metadata": {},
     "output_type": "execute_result"
    }
   ],
   "source": [
    "a[:,2:5]  # all rows & 2:5 means 2nd col to 4th col"
   ]
  },
  {
   "cell_type": "code",
   "execution_count": 43,
   "id": "77f5b8e7",
   "metadata": {
    "execution": {
     "iopub.execute_input": "2023-05-13T14:23:10.271362Z",
     "iopub.status.busy": "2023-05-13T14:23:10.270734Z",
     "iopub.status.idle": "2023-05-13T14:23:10.274974Z",
     "shell.execute_reply": "2023-05-13T14:23:10.274460Z"
    },
    "papermill": {
     "duration": 0.028011,
     "end_time": "2023-05-13T14:23:10.276338",
     "exception": false,
     "start_time": "2023-05-13T14:23:10.248327",
     "status": "completed"
    },
    "tags": []
   },
   "outputs": [
    {
     "data": {
      "text/plain": [
       "dtype('int64')"
      ]
     },
     "execution_count": 43,
     "metadata": {},
     "output_type": "execute_result"
    }
   ],
   "source": [
    "a[:,2:5].dtype  # define the datatype"
   ]
  },
  {
   "cell_type": "markdown",
   "id": "4dbc04c3",
   "metadata": {
    "papermill": {
     "duration": 0.02133,
     "end_time": "2023-05-13T14:23:10.319279",
     "exception": false,
     "start_time": "2023-05-13T14:23:10.297949",
     "status": "completed"
    },
    "tags": []
   },
   "source": [
    " # MATHEMATICAL OPERATIONS"
   ]
  },
  {
   "cell_type": "code",
   "execution_count": 44,
   "id": "5583c4ac",
   "metadata": {
    "execution": {
     "iopub.execute_input": "2023-05-13T14:23:10.363725Z",
     "iopub.status.busy": "2023-05-13T14:23:10.363128Z",
     "iopub.status.idle": "2023-05-13T14:23:10.368781Z",
     "shell.execute_reply": "2023-05-13T14:23:10.367927Z"
    },
    "papermill": {
     "duration": 0.029811,
     "end_time": "2023-05-13T14:23:10.370293",
     "exception": false,
     "start_time": "2023-05-13T14:23:10.340482",
     "status": "completed"
    },
    "tags": []
   },
   "outputs": [
    {
     "name": "stdout",
     "output_type": "stream",
     "text": [
      "[[ 0  1  2]\n",
      " [ 3  4  5]\n",
      " [ 6  7  8]\n",
      " [ 9 10 11]\n",
      " [12 13 14]\n",
      " [15 16 17]]\n",
      "[[20 21 22]\n",
      " [23 24 25]\n",
      " [26 27 28]\n",
      " [29 30 31]\n",
      " [32 33 34]\n",
      " [35 36 37]]\n"
     ]
    }
   ],
   "source": [
    "#To see the Mathematical operations, we need to define 2 arrays\n",
    "\n",
    "a = np.arange(0,18).reshape((6,3))\n",
    "b = np.arange(20,38).reshape((6,3))\n",
    "print(a)\n",
    "print(b)"
   ]
  },
  {
   "cell_type": "code",
   "execution_count": 45,
   "id": "321bba35",
   "metadata": {
    "execution": {
     "iopub.execute_input": "2023-05-13T14:23:10.415528Z",
     "iopub.status.busy": "2023-05-13T14:23:10.414759Z",
     "iopub.status.idle": "2023-05-13T14:23:10.421405Z",
     "shell.execute_reply": "2023-05-13T14:23:10.420646Z"
    },
    "papermill": {
     "duration": 0.030741,
     "end_time": "2023-05-13T14:23:10.422935",
     "exception": false,
     "start_time": "2023-05-13T14:23:10.392194",
     "status": "completed"
    },
    "tags": []
   },
   "outputs": [
    {
     "data": {
      "text/plain": [
       "array([[20, 22, 24],\n",
       "       [26, 28, 30],\n",
       "       [32, 34, 36],\n",
       "       [38, 40, 42],\n",
       "       [44, 46, 48],\n",
       "       [50, 52, 54]])"
      ]
     },
     "execution_count": 45,
     "metadata": {},
     "output_type": "execute_result"
    }
   ],
   "source": [
    "a+b  # it will add vertically i.e 0+20,1+21--------"
   ]
  },
  {
   "cell_type": "code",
   "execution_count": 46,
   "id": "9d7d34cd",
   "metadata": {
    "execution": {
     "iopub.execute_input": "2023-05-13T14:23:10.467575Z",
     "iopub.status.busy": "2023-05-13T14:23:10.467336Z",
     "iopub.status.idle": "2023-05-13T14:23:10.473662Z",
     "shell.execute_reply": "2023-05-13T14:23:10.472855Z"
    },
    "papermill": {
     "duration": 0.030468,
     "end_time": "2023-05-13T14:23:10.475168",
     "exception": false,
     "start_time": "2023-05-13T14:23:10.444700",
     "status": "completed"
    },
    "tags": []
   },
   "outputs": [
    {
     "data": {
      "text/plain": [
       "array([[20, 22, 24],\n",
       "       [26, 28, 30],\n",
       "       [32, 34, 36],\n",
       "       [38, 40, 42],\n",
       "       [44, 46, 48],\n",
       "       [50, 52, 54]])"
      ]
     },
     "execution_count": 46,
     "metadata": {},
     "output_type": "execute_result"
    }
   ],
   "source": [
    "np.add(a,b) #this is the function of addition"
   ]
  },
  {
   "cell_type": "code",
   "execution_count": 47,
   "id": "926e91c8",
   "metadata": {
    "execution": {
     "iopub.execute_input": "2023-05-13T14:23:10.519931Z",
     "iopub.status.busy": "2023-05-13T14:23:10.519653Z",
     "iopub.status.idle": "2023-05-13T14:23:10.525342Z",
     "shell.execute_reply": "2023-05-13T14:23:10.524432Z"
    },
    "papermill": {
     "duration": 0.02976,
     "end_time": "2023-05-13T14:23:10.526895",
     "exception": false,
     "start_time": "2023-05-13T14:23:10.497135",
     "status": "completed"
    },
    "tags": []
   },
   "outputs": [
    {
     "data": {
      "text/plain": [
       "array([[-20, -20, -20],\n",
       "       [-20, -20, -20],\n",
       "       [-20, -20, -20],\n",
       "       [-20, -20, -20],\n",
       "       [-20, -20, -20],\n",
       "       [-20, -20, -20]])"
      ]
     },
     "execution_count": 47,
     "metadata": {},
     "output_type": "execute_result"
    }
   ],
   "source": [
    "a-b  # subtract each and every element to each other"
   ]
  },
  {
   "cell_type": "code",
   "execution_count": 48,
   "id": "b930809c",
   "metadata": {
    "execution": {
     "iopub.execute_input": "2023-05-13T14:23:10.573586Z",
     "iopub.status.busy": "2023-05-13T14:23:10.573337Z",
     "iopub.status.idle": "2023-05-13T14:23:10.578964Z",
     "shell.execute_reply": "2023-05-13T14:23:10.578211Z"
    },
    "papermill": {
     "duration": 0.030171,
     "end_time": "2023-05-13T14:23:10.580582",
     "exception": false,
     "start_time": "2023-05-13T14:23:10.550411",
     "status": "completed"
    },
    "tags": []
   },
   "outputs": [
    {
     "data": {
      "text/plain": [
       "array([[-20, -20, -20],\n",
       "       [-20, -20, -20],\n",
       "       [-20, -20, -20],\n",
       "       [-20, -20, -20],\n",
       "       [-20, -20, -20],\n",
       "       [-20, -20, -20]])"
      ]
     },
     "execution_count": 48,
     "metadata": {},
     "output_type": "execute_result"
    }
   ],
   "source": [
    "np.subtract(a,b)  #this is the function of subtraction"
   ]
  },
  {
   "cell_type": "code",
   "execution_count": 49,
   "id": "8975cdb5",
   "metadata": {
    "execution": {
     "iopub.execute_input": "2023-05-13T14:23:10.627027Z",
     "iopub.status.busy": "2023-05-13T14:23:10.626593Z",
     "iopub.status.idle": "2023-05-13T14:23:10.630904Z",
     "shell.execute_reply": "2023-05-13T14:23:10.630389Z"
    },
    "papermill": {
     "duration": 0.028472,
     "end_time": "2023-05-13T14:23:10.632195",
     "exception": false,
     "start_time": "2023-05-13T14:23:10.603723",
     "status": "completed"
    },
    "tags": []
   },
   "outputs": [
    {
     "data": {
      "text/plain": [
       "array([[  0,  21,  44],\n",
       "       [ 69,  96, 125],\n",
       "       [156, 189, 224],\n",
       "       [261, 300, 341],\n",
       "       [384, 429, 476],\n",
       "       [525, 576, 629]])"
      ]
     },
     "execution_count": 49,
     "metadata": {},
     "output_type": "execute_result"
    }
   ],
   "source": [
    "a*b  #multiply by vertically"
   ]
  },
  {
   "cell_type": "code",
   "execution_count": 50,
   "id": "3454cb1e",
   "metadata": {
    "execution": {
     "iopub.execute_input": "2023-05-13T14:23:10.677355Z",
     "iopub.status.busy": "2023-05-13T14:23:10.677026Z",
     "iopub.status.idle": "2023-05-13T14:23:10.681155Z",
     "shell.execute_reply": "2023-05-13T14:23:10.680658Z"
    },
    "papermill": {
     "duration": 0.027973,
     "end_time": "2023-05-13T14:23:10.682415",
     "exception": false,
     "start_time": "2023-05-13T14:23:10.654442",
     "status": "completed"
    },
    "tags": []
   },
   "outputs": [
    {
     "data": {
      "text/plain": [
       "array([[  0,  21,  44],\n",
       "       [ 69,  96, 125],\n",
       "       [156, 189, 224],\n",
       "       [261, 300, 341],\n",
       "       [384, 429, 476],\n",
       "       [525, 576, 629]])"
      ]
     },
     "execution_count": 50,
     "metadata": {},
     "output_type": "execute_result"
    }
   ],
   "source": [
    "np.multiply(a,b)  #this is the function of multiply"
   ]
  },
  {
   "cell_type": "code",
   "execution_count": 51,
   "id": "b5be6f76",
   "metadata": {
    "execution": {
     "iopub.execute_input": "2023-05-13T14:23:10.727475Z",
     "iopub.status.busy": "2023-05-13T14:23:10.727042Z",
     "iopub.status.idle": "2023-05-13T14:23:10.731146Z",
     "shell.execute_reply": "2023-05-13T14:23:10.730655Z"
    },
    "papermill": {
     "duration": 0.028122,
     "end_time": "2023-05-13T14:23:10.732417",
     "exception": false,
     "start_time": "2023-05-13T14:23:10.704295",
     "status": "completed"
    },
    "tags": []
   },
   "outputs": [
    {
     "data": {
      "text/plain": [
       "array([[0.        , 0.04761905, 0.09090909],\n",
       "       [0.13043478, 0.16666667, 0.2       ],\n",
       "       [0.23076923, 0.25925926, 0.28571429],\n",
       "       [0.31034483, 0.33333333, 0.35483871],\n",
       "       [0.375     , 0.39393939, 0.41176471],\n",
       "       [0.42857143, 0.44444444, 0.45945946]])"
      ]
     },
     "execution_count": 51,
     "metadata": {},
     "output_type": "execute_result"
    }
   ],
   "source": [
    "a/b  #it will give the float result"
   ]
  },
  {
   "cell_type": "code",
   "execution_count": 52,
   "id": "2a26a939",
   "metadata": {
    "execution": {
     "iopub.execute_input": "2023-05-13T14:23:10.779907Z",
     "iopub.status.busy": "2023-05-13T14:23:10.779408Z",
     "iopub.status.idle": "2023-05-13T14:23:10.783599Z",
     "shell.execute_reply": "2023-05-13T14:23:10.783123Z"
    },
    "papermill": {
     "duration": 0.030595,
     "end_time": "2023-05-13T14:23:10.785000",
     "exception": false,
     "start_time": "2023-05-13T14:23:10.754405",
     "status": "completed"
    },
    "tags": []
   },
   "outputs": [
    {
     "data": {
      "text/plain": [
       "array([[0.        , 0.04761905, 0.09090909],\n",
       "       [0.13043478, 0.16666667, 0.2       ],\n",
       "       [0.23076923, 0.25925926, 0.28571429],\n",
       "       [0.31034483, 0.33333333, 0.35483871],\n",
       "       [0.375     , 0.39393939, 0.41176471],\n",
       "       [0.42857143, 0.44444444, 0.45945946]])"
      ]
     },
     "execution_count": 52,
     "metadata": {},
     "output_type": "execute_result"
    }
   ],
   "source": [
    "np.divide(a,b)  #this is the function of dividw"
   ]
  },
  {
   "cell_type": "markdown",
   "id": "563f0988",
   "metadata": {
    "papermill": {
     "duration": 0.022127,
     "end_time": "2023-05-13T14:23:10.829785",
     "exception": false,
     "start_time": "2023-05-13T14:23:10.807658",
     "status": "completed"
    },
    "tags": []
   },
   "source": [
    "# # # #metrix multiplication start from here"
   ]
  },
  {
   "cell_type": "code",
   "execution_count": 53,
   "id": "b4f83b89",
   "metadata": {
    "execution": {
     "iopub.execute_input": "2023-05-13T14:23:10.876080Z",
     "iopub.status.busy": "2023-05-13T14:23:10.875676Z",
     "iopub.status.idle": "2023-05-13T14:23:11.142997Z",
     "shell.execute_reply": "2023-05-13T14:23:11.141999Z"
    },
    "papermill": {
     "duration": 0.291671,
     "end_time": "2023-05-13T14:23:11.144389",
     "exception": true,
     "start_time": "2023-05-13T14:23:10.852718",
     "status": "failed"
    },
    "tags": []
   },
   "outputs": [
    {
     "ename": "ValueError",
     "evalue": "matmul: Input operand 1 has a mismatch in its core dimension 0, with gufunc signature (n?,k),(k,m?)->(n?,m?) (size 6 is different from 3)",
     "output_type": "error",
     "traceback": [
      "\u001b[0;31m---------------------------------------------------------------------------\u001b[0m",
      "\u001b[0;31mValueError\u001b[0m                                Traceback (most recent call last)",
      "Cell \u001b[0;32mIn[53], line 1\u001b[0m\n\u001b[0;32m----> 1\u001b[0m \u001b[43ma\u001b[49m\u001b[38;5;129;43m@b\u001b[39;49m\n",
      "\u001b[0;31mValueError\u001b[0m: matmul: Input operand 1 has a mismatch in its core dimension 0, with gufunc signature (n?,k),(k,m?)->(n?,m?) (size 6 is different from 3)"
     ]
    }
   ],
   "source": [
    "a@b"
   ]
  },
  {
   "cell_type": "code",
   "execution_count": null,
   "id": "cc329e77",
   "metadata": {
    "execution": {
     "iopub.execute_input": "2023-05-13T12:46:58.362877Z",
     "iopub.status.busy": "2023-05-13T12:46:58.362231Z",
     "iopub.status.idle": "2023-05-13T12:46:58.368507Z",
     "shell.execute_reply": "2023-05-13T12:46:58.367234Z",
     "shell.execute_reply.started": "2023-05-13T12:46:58.362835Z"
    },
    "papermill": {
     "duration": null,
     "end_time": null,
     "exception": null,
     "start_time": null,
     "status": "pending"
    },
    "tags": []
   },
   "outputs": [],
   "source": [
    "print(a.shape)\n",
    "print(b.shape)"
   ]
  },
  {
   "cell_type": "code",
   "execution_count": null,
   "id": "d0b9d9ca",
   "metadata": {
    "execution": {
     "iopub.execute_input": "2023-05-13T12:47:24.692806Z",
     "iopub.status.busy": "2023-05-13T12:47:24.692407Z",
     "iopub.status.idle": "2023-05-13T12:47:24.700204Z",
     "shell.execute_reply": "2023-05-13T12:47:24.699021Z",
     "shell.execute_reply.started": "2023-05-13T12:47:24.692773Z"
    },
    "papermill": {
     "duration": null,
     "end_time": null,
     "exception": null,
     "start_time": null,
     "status": "pending"
    },
    "tags": []
   },
   "outputs": [],
   "source": [
    "b = b.reshape((3,6))\n",
    "b"
   ]
  },
  {
   "cell_type": "code",
   "execution_count": null,
   "id": "4c4d7e76",
   "metadata": {
    "execution": {
     "iopub.execute_input": "2023-05-13T12:48:16.211900Z",
     "iopub.status.busy": "2023-05-13T12:48:16.211499Z",
     "iopub.status.idle": "2023-05-13T12:48:16.218527Z",
     "shell.execute_reply": "2023-05-13T12:48:16.217313Z",
     "shell.execute_reply.started": "2023-05-13T12:48:16.211868Z"
    },
    "papermill": {
     "duration": null,
     "end_time": null,
     "exception": null,
     "start_time": null,
     "status": "pending"
    },
    "tags": []
   },
   "outputs": [],
   "source": [
    "a@b #here cross multiplication will happen"
   ]
  },
  {
   "cell_type": "code",
   "execution_count": null,
   "id": "0bcda144",
   "metadata": {
    "execution": {
     "iopub.execute_input": "2023-05-13T12:49:09.882626Z",
     "iopub.status.busy": "2023-05-13T12:49:09.881771Z",
     "iopub.status.idle": "2023-05-13T12:49:09.889307Z",
     "shell.execute_reply": "2023-05-13T12:49:09.888483Z",
     "shell.execute_reply.started": "2023-05-13T12:49:09.882588Z"
    },
    "papermill": {
     "duration": null,
     "end_time": null,
     "exception": null,
     "start_time": null,
     "status": "pending"
    },
    "tags": []
   },
   "outputs": [],
   "source": [
    "a.dot(b) #this is the function of above multiplication with @"
   ]
  },
  {
   "cell_type": "code",
   "execution_count": null,
   "id": "02aa218c",
   "metadata": {
    "execution": {
     "iopub.execute_input": "2023-05-13T12:50:16.731325Z",
     "iopub.status.busy": "2023-05-13T12:50:16.730662Z",
     "iopub.status.idle": "2023-05-13T12:50:16.738217Z",
     "shell.execute_reply": "2023-05-13T12:50:16.737063Z",
     "shell.execute_reply.started": "2023-05-13T12:50:16.731287Z"
    },
    "papermill": {
     "duration": null,
     "end_time": null,
     "exception": null,
     "start_time": null,
     "status": "pending"
    },
    "tags": []
   },
   "outputs": [],
   "source": [
    "b.max()"
   ]
  },
  {
   "cell_type": "code",
   "execution_count": null,
   "id": "3404d5b9",
   "metadata": {
    "execution": {
     "iopub.execute_input": "2023-05-13T12:50:31.435957Z",
     "iopub.status.busy": "2023-05-13T12:50:31.435326Z",
     "iopub.status.idle": "2023-05-13T12:50:31.441806Z",
     "shell.execute_reply": "2023-05-13T12:50:31.440933Z",
     "shell.execute_reply.started": "2023-05-13T12:50:31.435925Z"
    },
    "papermill": {
     "duration": null,
     "end_time": null,
     "exception": null,
     "start_time": null,
     "status": "pending"
    },
    "tags": []
   },
   "outputs": [],
   "source": [
    "b.min()"
   ]
  },
  {
   "cell_type": "code",
   "execution_count": null,
   "id": "d3efed23",
   "metadata": {
    "execution": {
     "iopub.execute_input": "2023-05-13T12:51:23.966816Z",
     "iopub.status.busy": "2023-05-13T12:51:23.966360Z",
     "iopub.status.idle": "2023-05-13T12:51:23.974306Z",
     "shell.execute_reply": "2023-05-13T12:51:23.973092Z",
     "shell.execute_reply.started": "2023-05-13T12:51:23.966782Z"
    },
    "papermill": {
     "duration": null,
     "end_time": null,
     "exception": null,
     "start_time": null,
     "status": "pending"
    },
    "tags": []
   },
   "outputs": [],
   "source": [
    "b.argmax()  #it will give us the index no. of the max value"
   ]
  },
  {
   "cell_type": "code",
   "execution_count": null,
   "id": "dea98ba7",
   "metadata": {
    "execution": {
     "iopub.execute_input": "2023-05-13T12:51:36.614551Z",
     "iopub.status.busy": "2023-05-13T12:51:36.614144Z",
     "iopub.status.idle": "2023-05-13T12:51:36.621782Z",
     "shell.execute_reply": "2023-05-13T12:51:36.620601Z",
     "shell.execute_reply.started": "2023-05-13T12:51:36.614517Z"
    },
    "papermill": {
     "duration": null,
     "end_time": null,
     "exception": null,
     "start_time": null,
     "status": "pending"
    },
    "tags": []
   },
   "outputs": [],
   "source": [
    "np.sum(b)  #sum of all elements in b"
   ]
  },
  {
   "cell_type": "code",
   "execution_count": null,
   "id": "ed889dfa",
   "metadata": {
    "execution": {
     "iopub.execute_input": "2023-05-13T12:53:17.203553Z",
     "iopub.status.busy": "2023-05-13T12:53:17.202322Z",
     "iopub.status.idle": "2023-05-13T12:53:17.210648Z",
     "shell.execute_reply": "2023-05-13T12:53:17.209744Z",
     "shell.execute_reply.started": "2023-05-13T12:53:17.203508Z"
    },
    "papermill": {
     "duration": null,
     "end_time": null,
     "exception": null,
     "start_time": null,
     "status": "pending"
    },
    "tags": []
   },
   "outputs": [],
   "source": [
    "np.sum(b, axis = 1)  #axis = 1 means row , there it will give us sum of each & every row"
   ]
  },
  {
   "cell_type": "code",
   "execution_count": null,
   "id": "014085bb",
   "metadata": {
    "execution": {
     "iopub.execute_input": "2023-05-13T12:55:00.116483Z",
     "iopub.status.busy": "2023-05-13T12:55:00.116067Z",
     "iopub.status.idle": "2023-05-13T12:55:00.124299Z",
     "shell.execute_reply": "2023-05-13T12:55:00.123082Z",
     "shell.execute_reply.started": "2023-05-13T12:55:00.116446Z"
    },
    "papermill": {
     "duration": null,
     "end_time": null,
     "exception": null,
     "start_time": null,
     "status": "pending"
    },
    "tags": []
   },
   "outputs": [],
   "source": [
    "np.sum(b, axis = 0)  #axis = 0 means cols, there it will give us sum of each & every cols "
   ]
  },
  {
   "cell_type": "code",
   "execution_count": null,
   "id": "b01e06e5",
   "metadata": {
    "execution": {
     "iopub.execute_input": "2023-05-13T12:55:12.069659Z",
     "iopub.status.busy": "2023-05-13T12:55:12.069233Z",
     "iopub.status.idle": "2023-05-13T12:55:12.078162Z",
     "shell.execute_reply": "2023-05-13T12:55:12.076882Z",
     "shell.execute_reply.started": "2023-05-13T12:55:12.069626Z"
    },
    "papermill": {
     "duration": null,
     "end_time": null,
     "exception": null,
     "start_time": null,
     "status": "pending"
    },
    "tags": []
   },
   "outputs": [],
   "source": [
    "np.mean(b)"
   ]
  },
  {
   "cell_type": "code",
   "execution_count": null,
   "id": "f09bfc23",
   "metadata": {
    "execution": {
     "iopub.execute_input": "2023-05-13T12:55:24.358363Z",
     "iopub.status.busy": "2023-05-13T12:55:24.357922Z",
     "iopub.status.idle": "2023-05-13T12:55:24.365829Z",
     "shell.execute_reply": "2023-05-13T12:55:24.364445Z",
     "shell.execute_reply.started": "2023-05-13T12:55:24.358326Z"
    },
    "papermill": {
     "duration": null,
     "end_time": null,
     "exception": null,
     "start_time": null,
     "status": "pending"
    },
    "tags": []
   },
   "outputs": [],
   "source": [
    "np.sqrt(b)"
   ]
  },
  {
   "cell_type": "code",
   "execution_count": null,
   "id": "25949874",
   "metadata": {
    "execution": {
     "iopub.execute_input": "2023-05-13T12:55:53.656631Z",
     "iopub.status.busy": "2023-05-13T12:55:53.656193Z",
     "iopub.status.idle": "2023-05-13T12:55:53.664140Z",
     "shell.execute_reply": "2023-05-13T12:55:53.663190Z",
     "shell.execute_reply.started": "2023-05-13T12:55:53.656594Z"
    },
    "papermill": {
     "duration": null,
     "end_time": null,
     "exception": null,
     "start_time": null,
     "status": "pending"
    },
    "tags": []
   },
   "outputs": [],
   "source": [
    "np.std(b)"
   ]
  },
  {
   "cell_type": "code",
   "execution_count": null,
   "id": "b3f28cdd",
   "metadata": {
    "execution": {
     "iopub.execute_input": "2023-05-13T12:56:02.909853Z",
     "iopub.status.busy": "2023-05-13T12:56:02.909453Z",
     "iopub.status.idle": "2023-05-13T12:56:02.916857Z",
     "shell.execute_reply": "2023-05-13T12:56:02.915751Z",
     "shell.execute_reply.started": "2023-05-13T12:56:02.909821Z"
    },
    "papermill": {
     "duration": null,
     "end_time": null,
     "exception": null,
     "start_time": null,
     "status": "pending"
    },
    "tags": []
   },
   "outputs": [],
   "source": [
    "np.log(b)"
   ]
  },
  {
   "cell_type": "markdown",
   "id": "38546d95",
   "metadata": {
    "papermill": {
     "duration": null,
     "end_time": null,
     "exception": null,
     "start_time": null,
     "status": "pending"
    },
    "tags": []
   },
   "source": [
    "# TRIGONOMETRIC OPERATIONS"
   ]
  },
  {
   "cell_type": "code",
   "execution_count": null,
   "id": "d012605d",
   "metadata": {
    "execution": {
     "iopub.execute_input": "2023-05-13T13:19:46.413381Z",
     "iopub.status.busy": "2023-05-13T13:19:46.412956Z",
     "iopub.status.idle": "2023-05-13T13:19:46.419895Z",
     "shell.execute_reply": "2023-05-13T13:19:46.418664Z",
     "shell.execute_reply.started": "2023-05-13T13:19:46.413350Z"
    },
    "papermill": {
     "duration": null,
     "end_time": null,
     "exception": null,
     "start_time": null,
     "status": "pending"
    },
    "tags": []
   },
   "outputs": [],
   "source": [
    "import matplotlib.pyplot as plt\n",
    "plt.style.use('dark_background')"
   ]
  },
  {
   "cell_type": "code",
   "execution_count": null,
   "id": "df2a5ce9",
   "metadata": {
    "execution": {
     "iopub.execute_input": "2023-05-13T13:20:09.763485Z",
     "iopub.status.busy": "2023-05-13T13:20:09.763035Z",
     "iopub.status.idle": "2023-05-13T13:20:09.771512Z",
     "shell.execute_reply": "2023-05-13T13:20:09.770298Z",
     "shell.execute_reply.started": "2023-05-13T13:20:09.763403Z"
    },
    "papermill": {
     "duration": null,
     "end_time": null,
     "exception": null,
     "start_time": null,
     "status": "pending"
    },
    "tags": []
   },
   "outputs": [],
   "source": [
    "np.pi"
   ]
  },
  {
   "cell_type": "code",
   "execution_count": null,
   "id": "e9c7205e",
   "metadata": {
    "execution": {
     "iopub.execute_input": "2023-05-13T13:21:00.977500Z",
     "iopub.status.busy": "2023-05-13T13:21:00.977090Z",
     "iopub.status.idle": "2023-05-13T13:21:00.987151Z",
     "shell.execute_reply": "2023-05-13T13:21:00.985783Z",
     "shell.execute_reply.started": "2023-05-13T13:21:00.977467Z"
    },
    "papermill": {
     "duration": null,
     "end_time": null,
     "exception": null,
     "start_time": null,
     "status": "pending"
    },
    "tags": []
   },
   "outputs": [],
   "source": [
    "##Sin 90 Degree\n",
    "\n",
    "np.sin(np.pi/2)"
   ]
  },
  {
   "cell_type": "code",
   "execution_count": null,
   "id": "f93f177a",
   "metadata": {
    "execution": {
     "iopub.execute_input": "2023-05-13T13:21:30.878710Z",
     "iopub.status.busy": "2023-05-13T13:21:30.878305Z",
     "iopub.status.idle": "2023-05-13T13:21:30.885808Z",
     "shell.execute_reply": "2023-05-13T13:21:30.884920Z",
     "shell.execute_reply.started": "2023-05-13T13:21:30.878681Z"
    },
    "papermill": {
     "duration": null,
     "end_time": null,
     "exception": null,
     "start_time": null,
     "status": "pending"
    },
    "tags": []
   },
   "outputs": [],
   "source": [
    "##Sin 30 Degree\n",
    "\n",
    "np.sin(np.pi/6)"
   ]
  },
  {
   "cell_type": "code",
   "execution_count": null,
   "id": "d4e08b7f",
   "metadata": {
    "execution": {
     "iopub.execute_input": "2023-05-13T13:22:02.655935Z",
     "iopub.status.busy": "2023-05-13T13:22:02.654974Z",
     "iopub.status.idle": "2023-05-13T13:22:02.664358Z",
     "shell.execute_reply": "2023-05-13T13:22:02.663145Z",
     "shell.execute_reply.started": "2023-05-13T13:22:02.655885Z"
    },
    "papermill": {
     "duration": null,
     "end_time": null,
     "exception": null,
     "start_time": null,
     "status": "pending"
    },
    "tags": []
   },
   "outputs": [],
   "source": [
    "##Cos 90 Degree\n",
    "\n",
    "np.cos(np.pi/2)"
   ]
  },
  {
   "cell_type": "code",
   "execution_count": null,
   "id": "679813d0",
   "metadata": {
    "execution": {
     "iopub.execute_input": "2023-05-13T13:22:32.022690Z",
     "iopub.status.busy": "2023-05-13T13:22:32.022007Z",
     "iopub.status.idle": "2023-05-13T13:22:32.032331Z",
     "shell.execute_reply": "2023-05-13T13:22:32.031152Z",
     "shell.execute_reply.started": "2023-05-13T13:22:32.022656Z"
    },
    "papermill": {
     "duration": null,
     "end_time": null,
     "exception": null,
     "start_time": null,
     "status": "pending"
    },
    "tags": []
   },
   "outputs": [],
   "source": [
    "##Cos 30 Degree\n",
    "\n",
    "np.cos(np.pi/6)"
   ]
  },
  {
   "cell_type": "code",
   "execution_count": null,
   "id": "072debee",
   "metadata": {
    "execution": {
     "iopub.execute_input": "2023-05-13T13:23:10.385846Z",
     "iopub.status.busy": "2023-05-13T13:23:10.385027Z",
     "iopub.status.idle": "2023-05-13T13:23:10.393621Z",
     "shell.execute_reply": "2023-05-13T13:23:10.392525Z",
     "shell.execute_reply.started": "2023-05-13T13:23:10.385804Z"
    },
    "papermill": {
     "duration": null,
     "end_time": null,
     "exception": null,
     "start_time": null,
     "status": "pending"
    },
    "tags": []
   },
   "outputs": [],
   "source": [
    "##Tan 90 Degree\n",
    "\n",
    "np.tan(np.pi/2)"
   ]
  },
  {
   "cell_type": "code",
   "execution_count": null,
   "id": "1e3b7115",
   "metadata": {
    "execution": {
     "iopub.execute_input": "2023-05-13T13:23:23.683517Z",
     "iopub.status.busy": "2023-05-13T13:23:23.682964Z",
     "iopub.status.idle": "2023-05-13T13:23:23.691217Z",
     "shell.execute_reply": "2023-05-13T13:23:23.690204Z",
     "shell.execute_reply.started": "2023-05-13T13:23:23.683478Z"
    },
    "papermill": {
     "duration": null,
     "end_time": null,
     "exception": null,
     "start_time": null,
     "status": "pending"
    },
    "tags": []
   },
   "outputs": [],
   "source": [
    "np.tan(0)"
   ]
  },
  {
   "cell_type": "markdown",
   "id": "0f65d163",
   "metadata": {
    "papermill": {
     "duration": null,
     "end_time": null,
     "exception": null,
     "start_time": null,
     "status": "pending"
    },
    "tags": []
   },
   "source": [
    "**###Using Matplotlib with Numpy:--******"
   ]
  },
  {
   "cell_type": "code",
   "execution_count": null,
   "id": "ca3e712c",
   "metadata": {
    "execution": {
     "iopub.execute_input": "2023-05-13T13:30:00.684673Z",
     "iopub.status.busy": "2023-05-13T13:30:00.684278Z",
     "iopub.status.idle": "2023-05-13T13:30:00.925829Z",
     "shell.execute_reply": "2023-05-13T13:30:00.924541Z",
     "shell.execute_reply.started": "2023-05-13T13:30:00.684644Z"
    },
    "papermill": {
     "duration": null,
     "end_time": null,
     "exception": null,
     "start_time": null,
     "status": "pending"
    },
    "tags": []
   },
   "outputs": [],
   "source": [
    "x = np.arange(1,11)\n",
    "y = np.arange(10, 110, 10)\n",
    "\n",
    "plt.figure(figsize = (6,6))\n",
    "plt.plot(x,y, 'r--')\n",
    "plt.show()"
   ]
  },
  {
   "cell_type": "markdown",
   "id": "54af05ee",
   "metadata": {
    "papermill": {
     "duration": null,
     "end_time": null,
     "exception": null,
     "start_time": null,
     "status": "pending"
    },
    "tags": []
   },
   "source": [
    "**##Plotting Trignometric Curves**"
   ]
  },
  {
   "cell_type": "code",
   "execution_count": null,
   "id": "9fb24ef8",
   "metadata": {
    "execution": {
     "iopub.execute_input": "2023-05-13T13:35:33.078184Z",
     "iopub.status.busy": "2023-05-13T13:35:33.077535Z",
     "iopub.status.idle": "2023-05-13T13:35:33.087342Z",
     "shell.execute_reply": "2023-05-13T13:35:33.086195Z",
     "shell.execute_reply.started": "2023-05-13T13:35:33.078136Z"
    },
    "papermill": {
     "duration": null,
     "end_time": null,
     "exception": null,
     "start_time": null,
     "status": "pending"
    },
    "tags": []
   },
   "outputs": [],
   "source": [
    "##SIN CURVE\n",
    "\n",
    "x_sin = np.arange(0,2*np.pi, 0.1)\n",
    "y_sin = np.sin(x_sin)\n",
    "\n",
    "print(y_sin)"
   ]
  },
  {
   "cell_type": "code",
   "execution_count": null,
   "id": "a59998c0",
   "metadata": {
    "execution": {
     "iopub.execute_input": "2023-05-13T13:37:12.628690Z",
     "iopub.status.busy": "2023-05-13T13:37:12.628053Z",
     "iopub.status.idle": "2023-05-13T13:37:13.154755Z",
     "shell.execute_reply": "2023-05-13T13:37:13.153754Z",
     "shell.execute_reply.started": "2023-05-13T13:37:12.628650Z"
    },
    "papermill": {
     "duration": null,
     "end_time": null,
     "exception": null,
     "start_time": null,
     "status": "pending"
    },
    "tags": []
   },
   "outputs": [],
   "source": [
    "plt.figure(figsize = (6,6))\n",
    "plt.plot(x_sin, y_sin)\n",
    "plt.title('Sin Curve')\n",
    "plt.show()"
   ]
  },
  {
   "cell_type": "code",
   "execution_count": null,
   "id": "e1ea3b1d",
   "metadata": {
    "execution": {
     "iopub.execute_input": "2023-05-13T13:39:08.751407Z",
     "iopub.status.busy": "2023-05-13T13:39:08.750955Z",
     "iopub.status.idle": "2023-05-13T13:39:09.033333Z",
     "shell.execute_reply": "2023-05-13T13:39:09.031713Z",
     "shell.execute_reply.started": "2023-05-13T13:39:08.751371Z"
    },
    "papermill": {
     "duration": null,
     "end_time": null,
     "exception": null,
     "start_time": null,
     "status": "pending"
    },
    "tags": []
   },
   "outputs": [],
   "source": [
    "x_cos = np.arange(0,2*np.pi, 0.1)\n",
    "y_cos = np.cos(x_cos)\n",
    "\n",
    "print(y_cos)\n",
    "\n",
    "plt.figure(figsize = (6,6))\n",
    "plt.plot(x_cos, y_cos)\n",
    "plt.title('Cos Curve')\n",
    "plt.show()"
   ]
  },
  {
   "cell_type": "code",
   "execution_count": null,
   "id": "7482d5c6",
   "metadata": {
    "execution": {
     "iopub.execute_input": "2023-05-13T13:43:25.627650Z",
     "iopub.status.busy": "2023-05-13T13:43:25.627227Z",
     "iopub.status.idle": "2023-05-13T13:43:25.882326Z",
     "shell.execute_reply": "2023-05-13T13:43:25.881043Z",
     "shell.execute_reply.started": "2023-05-13T13:43:25.627617Z"
    },
    "papermill": {
     "duration": null,
     "end_time": null,
     "exception": null,
     "start_time": null,
     "status": "pending"
    },
    "tags": []
   },
   "outputs": [],
   "source": [
    "x_tan = np.arange(0,2*np.pi, 0.1)\n",
    "y_tan = np.tan(x_tan)\n",
    "print(y_tan)\n",
    "\n",
    "plt.figure(figsize = (6,6))\n",
    "plt.plot(x_tan, y_tan)\n",
    "plt.title('Tan Curve')\n",
    "plt.show()"
   ]
  },
  {
   "cell_type": "code",
   "execution_count": null,
   "id": "3a917554",
   "metadata": {
    "execution": {
     "iopub.execute_input": "2023-05-13T13:50:28.334929Z",
     "iopub.status.busy": "2023-05-13T13:50:28.334500Z",
     "iopub.status.idle": "2023-05-13T13:50:28.575085Z",
     "shell.execute_reply": "2023-05-13T13:50:28.573854Z",
     "shell.execute_reply.started": "2023-05-13T13:50:28.334893Z"
    },
    "papermill": {
     "duration": null,
     "end_time": null,
     "exception": null,
     "start_time": null,
     "status": "pending"
    },
    "tags": []
   },
   "outputs": [],
   "source": [
    "x_cot = np.arange(0, 2*np.pi, 0.1)\n",
    "y_cot = 1/np.tan(x_cot)\n",
    "print(y_cot)\n",
    "\n",
    "plt.figure(figsize = (6,6))\n",
    "plt.plot(x_cot, y_cot)\n",
    "plt.title('Cot Curve')\n",
    "plt.show()\n",
    "    "
   ]
  },
  {
   "cell_type": "markdown",
   "id": "a0af079b",
   "metadata": {
    "papermill": {
     "duration": null,
     "end_time": null,
     "exception": null,
     "start_time": null,
     "status": "pending"
    },
    "tags": []
   },
   "source": [
    "**##SUBPLOT**  (all curves should be in one plot)"
   ]
  },
  {
   "cell_type": "code",
   "execution_count": null,
   "id": "3e4d8ee4",
   "metadata": {
    "execution": {
     "iopub.execute_input": "2023-05-13T13:58:16.679229Z",
     "iopub.status.busy": "2023-05-13T13:58:16.678745Z",
     "iopub.status.idle": "2023-05-13T13:58:17.379799Z",
     "shell.execute_reply": "2023-05-13T13:58:17.378373Z",
     "shell.execute_reply.started": "2023-05-13T13:58:16.679190Z"
    },
    "papermill": {
     "duration": null,
     "end_time": null,
     "exception": null,
     "start_time": null,
     "status": "pending"
    },
    "tags": []
   },
   "outputs": [],
   "source": [
    "plt.figure(figsize =(8,8))\n",
    "\n",
    "plt.subplot(2,2,1)\n",
    "plt.plot(x_sin, y_sin, 'r--')\n",
    "plt.title('Sin Curve')\n",
    "\n",
    "plt.subplot(2,2,2)\n",
    "plt.plot(x_cos, y_cos, 'b--')\n",
    "plt.title('Cos Curve')\n",
    "\n",
    "plt.subplot(2,2,3)\n",
    "plt.plot(x_tan, y_tan, 'y--')\n",
    "plt.title('Tan Curve')\n",
    "\n",
    "plt.subplot(2,2,4)\n",
    "plt.plot(x_cot, y_cot, 'g--')\n",
    "plt.title('Cot Curve')\n",
    "\n",
    "plt.show()"
   ]
  },
  {
   "cell_type": "markdown",
   "id": "17bd1202",
   "metadata": {
    "papermill": {
     "duration": null,
     "end_time": null,
     "exception": null,
     "start_time": null,
     "status": "pending"
    },
    "tags": []
   },
   "source": [
    "# # RANDOM OPERATIONS"
   ]
  },
  {
   "cell_type": "code",
   "execution_count": null,
   "id": "f449b1f2",
   "metadata": {
    "execution": {
     "iopub.execute_input": "2023-05-13T14:01:36.811654Z",
     "iopub.status.busy": "2023-05-13T14:01:36.811226Z",
     "iopub.status.idle": "2023-05-13T14:01:36.820762Z",
     "shell.execute_reply": "2023-05-13T14:01:36.819472Z",
     "shell.execute_reply.started": "2023-05-13T14:01:36.811620Z"
    },
    "papermill": {
     "duration": null,
     "end_time": null,
     "exception": null,
     "start_time": null,
     "status": "pending"
    },
    "tags": []
   },
   "outputs": [],
   "source": [
    "np.random.random(1)"
   ]
  },
  {
   "cell_type": "code",
   "execution_count": null,
   "id": "45228186",
   "metadata": {
    "execution": {
     "iopub.execute_input": "2023-05-13T14:01:59.420076Z",
     "iopub.status.busy": "2023-05-13T14:01:59.419267Z",
     "iopub.status.idle": "2023-05-13T14:01:59.428481Z",
     "shell.execute_reply": "2023-05-13T14:01:59.427159Z",
     "shell.execute_reply.started": "2023-05-13T14:01:59.420029Z"
    },
    "papermill": {
     "duration": null,
     "end_time": null,
     "exception": null,
     "start_time": null,
     "status": "pending"
    },
    "tags": []
   },
   "outputs": [],
   "source": [
    "np.random.random(2)"
   ]
  },
  {
   "cell_type": "code",
   "execution_count": null,
   "id": "31e4e73f",
   "metadata": {
    "execution": {
     "iopub.execute_input": "2023-05-13T14:02:15.812214Z",
     "iopub.status.busy": "2023-05-13T14:02:15.811423Z",
     "iopub.status.idle": "2023-05-13T14:02:15.820117Z",
     "shell.execute_reply": "2023-05-13T14:02:15.818750Z",
     "shell.execute_reply.started": "2023-05-13T14:02:15.812172Z"
    },
    "papermill": {
     "duration": null,
     "end_time": null,
     "exception": null,
     "start_time": null,
     "status": "pending"
    },
    "tags": []
   },
   "outputs": [],
   "source": [
    "np.random.random((2,2))"
   ]
  },
  {
   "cell_type": "code",
   "execution_count": null,
   "id": "d67783a6",
   "metadata": {
    "execution": {
     "iopub.execute_input": "2023-05-13T14:02:43.162065Z",
     "iopub.status.busy": "2023-05-13T14:02:43.161660Z",
     "iopub.status.idle": "2023-05-13T14:02:43.170083Z",
     "shell.execute_reply": "2023-05-13T14:02:43.168794Z",
     "shell.execute_reply.started": "2023-05-13T14:02:43.162031Z"
    },
    "papermill": {
     "duration": null,
     "end_time": null,
     "exception": null,
     "start_time": null,
     "status": "pending"
    },
    "tags": []
   },
   "outputs": [],
   "source": [
    "np.random.randint(1,10)"
   ]
  },
  {
   "cell_type": "code",
   "execution_count": null,
   "id": "3204c268",
   "metadata": {
    "execution": {
     "iopub.execute_input": "2023-05-13T14:03:26.615636Z",
     "iopub.status.busy": "2023-05-13T14:03:26.615211Z",
     "iopub.status.idle": "2023-05-13T14:03:26.623841Z",
     "shell.execute_reply": "2023-05-13T14:03:26.622452Z",
     "shell.execute_reply.started": "2023-05-13T14:03:26.615600Z"
    },
    "papermill": {
     "duration": null,
     "end_time": null,
     "exception": null,
     "start_time": null,
     "status": "pending"
    },
    "tags": []
   },
   "outputs": [],
   "source": [
    "np.random.randint(1,10, (2,2))"
   ]
  },
  {
   "cell_type": "code",
   "execution_count": null,
   "id": "d3fd743d",
   "metadata": {
    "execution": {
     "iopub.execute_input": "2023-05-13T14:04:01.208356Z",
     "iopub.status.busy": "2023-05-13T14:04:01.207970Z",
     "iopub.status.idle": "2023-05-13T14:04:01.216626Z",
     "shell.execute_reply": "2023-05-13T14:04:01.215528Z",
     "shell.execute_reply.started": "2023-05-13T14:04:01.208327Z"
    },
    "papermill": {
     "duration": null,
     "end_time": null,
     "exception": null,
     "start_time": null,
     "status": "pending"
    },
    "tags": []
   },
   "outputs": [],
   "source": [
    "np.random.randint(1,10, (3,4,5))"
   ]
  },
  {
   "cell_type": "code",
   "execution_count": null,
   "id": "2ed26604",
   "metadata": {
    "execution": {
     "iopub.execute_input": "2023-05-13T14:04:51.715455Z",
     "iopub.status.busy": "2023-05-13T14:04:51.715057Z",
     "iopub.status.idle": "2023-05-13T14:04:51.723072Z",
     "shell.execute_reply": "2023-05-13T14:04:51.722208Z",
     "shell.execute_reply.started": "2023-05-13T14:04:51.715424Z"
    },
    "papermill": {
     "duration": null,
     "end_time": null,
     "exception": null,
     "start_time": null,
     "status": "pending"
    },
    "tags": []
   },
   "outputs": [],
   "source": [
    "np.random.rand(2,3)"
   ]
  },
  {
   "cell_type": "code",
   "execution_count": null,
   "id": "a07503bb",
   "metadata": {
    "execution": {
     "iopub.execute_input": "2023-05-13T14:05:20.198643Z",
     "iopub.status.busy": "2023-05-13T14:05:20.197861Z",
     "iopub.status.idle": "2023-05-13T14:05:20.207129Z",
     "shell.execute_reply": "2023-05-13T14:05:20.205733Z",
     "shell.execute_reply.started": "2023-05-13T14:05:20.198603Z"
    },
    "papermill": {
     "duration": null,
     "end_time": null,
     "exception": null,
     "start_time": null,
     "status": "pending"
    },
    "tags": []
   },
   "outputs": [],
   "source": [
    "np.random.randn(2,5)"
   ]
  },
  {
   "cell_type": "code",
   "execution_count": null,
   "id": "dd86ed5b",
   "metadata": {
    "execution": {
     "iopub.execute_input": "2023-05-13T14:05:50.191105Z",
     "iopub.status.busy": "2023-05-13T14:05:50.190681Z",
     "iopub.status.idle": "2023-05-13T14:05:50.198113Z",
     "shell.execute_reply": "2023-05-13T14:05:50.196586Z",
     "shell.execute_reply.started": "2023-05-13T14:05:50.191070Z"
    },
    "papermill": {
     "duration": null,
     "end_time": null,
     "exception": null,
     "start_time": null,
     "status": "pending"
    },
    "tags": []
   },
   "outputs": [],
   "source": [
    "a = np.arange(1,10)\n",
    "print(a)"
   ]
  },
  {
   "cell_type": "code",
   "execution_count": null,
   "id": "9ceb4ffe",
   "metadata": {
    "execution": {
     "iopub.execute_input": "2023-05-13T14:06:18.824142Z",
     "iopub.status.busy": "2023-05-13T14:06:18.823663Z",
     "iopub.status.idle": "2023-05-13T14:06:18.832333Z",
     "shell.execute_reply": "2023-05-13T14:06:18.831030Z",
     "shell.execute_reply.started": "2023-05-13T14:06:18.824103Z"
    },
    "papermill": {
     "duration": null,
     "end_time": null,
     "exception": null,
     "start_time": null,
     "status": "pending"
    },
    "tags": []
   },
   "outputs": [],
   "source": [
    "np.random.choice(a)"
   ]
  },
  {
   "cell_type": "markdown",
   "id": "97f0d62b",
   "metadata": {
    "papermill": {
     "duration": null,
     "end_time": null,
     "exception": null,
     "start_time": null,
     "status": "pending"
    },
    "tags": []
   },
   "source": [
    "# STRING OPERATIONS"
   ]
  },
  {
   "cell_type": "markdown",
   "id": "ed045afb",
   "metadata": {
    "papermill": {
     "duration": null,
     "end_time": null,
     "exception": null,
     "start_time": null,
     "status": "pending"
    },
    "tags": []
   },
   "source": [
    "**#Strings with Numpy library**"
   ]
  },
  {
   "cell_type": "code",
   "execution_count": null,
   "id": "fe25b2a0",
   "metadata": {
    "execution": {
     "iopub.execute_input": "2023-05-13T14:09:03.702706Z",
     "iopub.status.busy": "2023-05-13T14:09:03.702281Z",
     "iopub.status.idle": "2023-05-13T14:09:03.707803Z",
     "shell.execute_reply": "2023-05-13T14:09:03.706534Z",
     "shell.execute_reply.started": "2023-05-13T14:09:03.702673Z"
    },
    "papermill": {
     "duration": null,
     "end_time": null,
     "exception": null,
     "start_time": null,
     "status": "pending"
    },
    "tags": []
   },
   "outputs": [],
   "source": [
    "s1 = 'Hoshangi is my Name'\n",
    "s2 = 'I am the wife of Hardik'"
   ]
  },
  {
   "cell_type": "code",
   "execution_count": null,
   "id": "a4b2f134",
   "metadata": {
    "execution": {
     "iopub.execute_input": "2023-05-13T14:09:18.982721Z",
     "iopub.status.busy": "2023-05-13T14:09:18.982255Z",
     "iopub.status.idle": "2023-05-13T14:09:18.991359Z",
     "shell.execute_reply": "2023-05-13T14:09:18.990112Z",
     "shell.execute_reply.started": "2023-05-13T14:09:18.982683Z"
    },
    "papermill": {
     "duration": null,
     "end_time": null,
     "exception": null,
     "start_time": null,
     "status": "pending"
    },
    "tags": []
   },
   "outputs": [],
   "source": [
    "np.char.add(s1,s2)"
   ]
  },
  {
   "cell_type": "code",
   "execution_count": null,
   "id": "8fe20baf",
   "metadata": {
    "execution": {
     "iopub.execute_input": "2023-05-13T14:10:08.195867Z",
     "iopub.status.busy": "2023-05-13T14:10:08.195062Z",
     "iopub.status.idle": "2023-05-13T14:10:08.203943Z",
     "shell.execute_reply": "2023-05-13T14:10:08.202871Z",
     "shell.execute_reply.started": "2023-05-13T14:10:08.195822Z"
    },
    "papermill": {
     "duration": null,
     "end_time": null,
     "exception": null,
     "start_time": null,
     "status": "pending"
    },
    "tags": []
   },
   "outputs": [],
   "source": [
    "np.char.upper(s1)"
   ]
  },
  {
   "cell_type": "code",
   "execution_count": null,
   "id": "f61a5040",
   "metadata": {
    "execution": {
     "iopub.execute_input": "2023-05-13T14:10:19.691380Z",
     "iopub.status.busy": "2023-05-13T14:10:19.690947Z",
     "iopub.status.idle": "2023-05-13T14:10:19.698846Z",
     "shell.execute_reply": "2023-05-13T14:10:19.697541Z",
     "shell.execute_reply.started": "2023-05-13T14:10:19.691348Z"
    },
    "papermill": {
     "duration": null,
     "end_time": null,
     "exception": null,
     "start_time": null,
     "status": "pending"
    },
    "tags": []
   },
   "outputs": [],
   "source": [
    "np.char.lower(s1)"
   ]
  },
  {
   "cell_type": "code",
   "execution_count": null,
   "id": "a9e82cdf",
   "metadata": {
    "execution": {
     "iopub.execute_input": "2023-05-13T14:10:55.495523Z",
     "iopub.status.busy": "2023-05-13T14:10:55.495091Z",
     "iopub.status.idle": "2023-05-13T14:10:55.503007Z",
     "shell.execute_reply": "2023-05-13T14:10:55.501583Z",
     "shell.execute_reply.started": "2023-05-13T14:10:55.495491Z"
    },
    "papermill": {
     "duration": null,
     "end_time": null,
     "exception": null,
     "start_time": null,
     "status": "pending"
    },
    "tags": []
   },
   "outputs": [],
   "source": [
    "np.char.split(s2)"
   ]
  },
  {
   "cell_type": "code",
   "execution_count": null,
   "id": "7f7161e6",
   "metadata": {
    "execution": {
     "iopub.execute_input": "2023-05-13T14:12:06.000411Z",
     "iopub.status.busy": "2023-05-13T14:12:06.000001Z",
     "iopub.status.idle": "2023-05-13T14:12:06.008658Z",
     "shell.execute_reply": "2023-05-13T14:12:06.007448Z",
     "shell.execute_reply.started": "2023-05-13T14:12:06.000372Z"
    },
    "papermill": {
     "duration": null,
     "end_time": null,
     "exception": null,
     "start_time": null,
     "status": "pending"
    },
    "tags": []
   },
   "outputs": [],
   "source": [
    "s3 = 'Hoshangi is my \\nname'\n",
    "np.char.splitlines(s3)"
   ]
  },
  {
   "cell_type": "code",
   "execution_count": null,
   "id": "c44abeb4",
   "metadata": {
    "execution": {
     "iopub.execute_input": "2023-05-13T14:14:24.962934Z",
     "iopub.status.busy": "2023-05-13T14:14:24.962527Z",
     "iopub.status.idle": "2023-05-13T14:14:24.971257Z",
     "shell.execute_reply": "2023-05-13T14:14:24.969969Z",
     "shell.execute_reply.started": "2023-05-13T14:14:24.962903Z"
    },
    "papermill": {
     "duration": null,
     "end_time": null,
     "exception": null,
     "start_time": null,
     "status": "pending"
    },
    "tags": []
   },
   "outputs": [],
   "source": [
    "np.char.replace(s1,'Name','Sirname')"
   ]
  },
  {
   "cell_type": "code",
   "execution_count": null,
   "id": "345a0004",
   "metadata": {
    "execution": {
     "iopub.execute_input": "2023-05-13T14:16:30.022522Z",
     "iopub.status.busy": "2023-05-13T14:16:30.021886Z",
     "iopub.status.idle": "2023-05-13T14:16:30.028222Z",
     "shell.execute_reply": "2023-05-13T14:16:30.026725Z",
     "shell.execute_reply.started": "2023-05-13T14:16:30.022487Z"
    },
    "papermill": {
     "duration": null,
     "end_time": null,
     "exception": null,
     "start_time": null,
     "status": "pending"
    },
    "tags": []
   },
   "outputs": [],
   "source": [
    "print(np.char.center('NUMPY COMPLETED', 80, '*'))"
   ]
  }
 ],
 "metadata": {
  "kernelspec": {
   "display_name": "Python 3",
   "language": "python",
   "name": "python3"
  },
  "language_info": {
   "codemirror_mode": {
    "name": "ipython",
    "version": 3
   },
   "file_extension": ".py",
   "mimetype": "text/x-python",
   "name": "python",
   "nbconvert_exporter": "python",
   "pygments_lexer": "ipython3",
   "version": "3.10.10"
  },
  "papermill": {
   "default_parameters": {},
   "duration": 11.290933,
   "end_time": "2023-05-13T14:23:11.784956",
   "environment_variables": {},
   "exception": true,
   "input_path": "__notebook__.ipynb",
   "output_path": "__notebook__.ipynb",
   "parameters": {},
   "start_time": "2023-05-13T14:23:00.494023",
   "version": "2.4.0"
  }
 },
 "nbformat": 4,
 "nbformat_minor": 5
}
